{
  "nbformat": 4,
  "nbformat_minor": 0,
  "metadata": {
    "colab": {
      "provenance": [],
      "include_colab_link": true
    },
    "kernelspec": {
      "name": "python3",
      "display_name": "Python 3"
    },
    "language_info": {
      "name": "python"
    }
  },
  "cells": [
    {
      "cell_type": "markdown",
      "metadata": {
        "id": "view-in-github",
        "colab_type": "text"
      },
      "source": [
        "<a href=\"https://colab.research.google.com/github/SiriChandana12/Projectwork/blob/main/ANN_Project.ipynb\" target=\"_parent\"><img src=\"https://colab.research.google.com/assets/colab-badge.svg\" alt=\"Open In Colab\"/></a>"
      ]
    },
    {
      "cell_type": "code",
      "execution_count": null,
      "metadata": {
        "id": "D8E_P7x09aCU"
      },
      "outputs": [],
      "source": [
        "import pandas as pd\n",
        "import numpy as np\n",
        "import matplotlib.pyplot as plt\n",
        "%matplotlib inline"
      ]
    },
    {
      "cell_type": "code",
      "source": [
        "df=pd.read_csv('/content/sample_data/Project_Data.csv')\n",
        "\n",
        "print(df.columns.values)"
      ],
      "metadata": {
        "colab": {
          "base_uri": "https://localhost:8080/"
        },
        "id": "en5zZR-N9iCY",
        "outputId": "e9211d1d-a79a-428c-c765-ae0823e7069c"
      },
      "execution_count": null,
      "outputs": [
        {
          "output_type": "stream",
          "name": "stdout",
          "text": [
            "['Sl No' 'Sample ID' 'Age' 'Ob_Score' 'BMI' 'Consistency_Score'\n",
            " 'Position_Score' 'Effacement_Score' 'Dialation_Score' 'Station_Score'\n",
            " 'Total_Bishop_Score' 'Cerv_Len_cms' 'Cerv_Wid_cms' 'Induction' 'Del_mode']\n"
          ]
        }
      ]
    },
    {
      "cell_type": "code",
      "source": [
        "df.sample(5)"
      ],
      "metadata": {
        "colab": {
          "base_uri": "https://localhost:8080/",
          "height": 244
        },
        "id": "ApZWDDLPAn0s",
        "outputId": "e2c1d2d0-14ac-42fb-98ab-51b1ef815dea"
      },
      "execution_count": null,
      "outputs": [
        {
          "output_type": "execute_result",
          "data": {
            "text/plain": [
              "     Sl No Sample ID  Age Ob_Score        BMI  Consistency_Score  \\\n",
              "577    578     DT578   24       G1  26.895506                  1   \n",
              "958    959     DT959   24       G1  27.751344                  2   \n",
              "463    464     DT464   21       G1  27.811854                  1   \n",
              "262    263     DT263   23       G1  25.939300                  2   \n",
              "234    235     DT235   24       G1  24.509717                  2   \n",
              "\n",
              "     Position_Score  Effacement_Score  Dialation_Score  Station_Score  \\\n",
              "577               0                 2                1              0   \n",
              "958               2                 0                0              0   \n",
              "463               1                 1                2              1   \n",
              "262               1                 0                0              1   \n",
              "234               0                 3                1              3   \n",
              "\n",
              "     Total_Bishop_Score  Cerv_Len_cms  Cerv_Wid_cms  Induction  Del_mode  \n",
              "577                   4           NaN           NaN          1         0  \n",
              "958                   4      2.454904      1.324674          1         0  \n",
              "463                   5           NaN           NaN          1         0  \n",
              "262                   3      2.695561      1.276854          0         1  \n",
              "234                   6      2.504047      1.295953          1         1  "
            ],
            "text/html": [
              "\n",
              "  <div id=\"df-997173ab-53f5-481c-98a0-b5e9ddd61476\" class=\"colab-df-container\">\n",
              "    <div>\n",
              "<style scoped>\n",
              "    .dataframe tbody tr th:only-of-type {\n",
              "        vertical-align: middle;\n",
              "    }\n",
              "\n",
              "    .dataframe tbody tr th {\n",
              "        vertical-align: top;\n",
              "    }\n",
              "\n",
              "    .dataframe thead th {\n",
              "        text-align: right;\n",
              "    }\n",
              "</style>\n",
              "<table border=\"1\" class=\"dataframe\">\n",
              "  <thead>\n",
              "    <tr style=\"text-align: right;\">\n",
              "      <th></th>\n",
              "      <th>Sl No</th>\n",
              "      <th>Sample ID</th>\n",
              "      <th>Age</th>\n",
              "      <th>Ob_Score</th>\n",
              "      <th>BMI</th>\n",
              "      <th>Consistency_Score</th>\n",
              "      <th>Position_Score</th>\n",
              "      <th>Effacement_Score</th>\n",
              "      <th>Dialation_Score</th>\n",
              "      <th>Station_Score</th>\n",
              "      <th>Total_Bishop_Score</th>\n",
              "      <th>Cerv_Len_cms</th>\n",
              "      <th>Cerv_Wid_cms</th>\n",
              "      <th>Induction</th>\n",
              "      <th>Del_mode</th>\n",
              "    </tr>\n",
              "  </thead>\n",
              "  <tbody>\n",
              "    <tr>\n",
              "      <th>577</th>\n",
              "      <td>578</td>\n",
              "      <td>DT578</td>\n",
              "      <td>24</td>\n",
              "      <td>G1</td>\n",
              "      <td>26.895506</td>\n",
              "      <td>1</td>\n",
              "      <td>0</td>\n",
              "      <td>2</td>\n",
              "      <td>1</td>\n",
              "      <td>0</td>\n",
              "      <td>4</td>\n",
              "      <td>NaN</td>\n",
              "      <td>NaN</td>\n",
              "      <td>1</td>\n",
              "      <td>0</td>\n",
              "    </tr>\n",
              "    <tr>\n",
              "      <th>958</th>\n",
              "      <td>959</td>\n",
              "      <td>DT959</td>\n",
              "      <td>24</td>\n",
              "      <td>G1</td>\n",
              "      <td>27.751344</td>\n",
              "      <td>2</td>\n",
              "      <td>2</td>\n",
              "      <td>0</td>\n",
              "      <td>0</td>\n",
              "      <td>0</td>\n",
              "      <td>4</td>\n",
              "      <td>2.454904</td>\n",
              "      <td>1.324674</td>\n",
              "      <td>1</td>\n",
              "      <td>0</td>\n",
              "    </tr>\n",
              "    <tr>\n",
              "      <th>463</th>\n",
              "      <td>464</td>\n",
              "      <td>DT464</td>\n",
              "      <td>21</td>\n",
              "      <td>G1</td>\n",
              "      <td>27.811854</td>\n",
              "      <td>1</td>\n",
              "      <td>1</td>\n",
              "      <td>1</td>\n",
              "      <td>2</td>\n",
              "      <td>1</td>\n",
              "      <td>5</td>\n",
              "      <td>NaN</td>\n",
              "      <td>NaN</td>\n",
              "      <td>1</td>\n",
              "      <td>0</td>\n",
              "    </tr>\n",
              "    <tr>\n",
              "      <th>262</th>\n",
              "      <td>263</td>\n",
              "      <td>DT263</td>\n",
              "      <td>23</td>\n",
              "      <td>G1</td>\n",
              "      <td>25.939300</td>\n",
              "      <td>2</td>\n",
              "      <td>1</td>\n",
              "      <td>0</td>\n",
              "      <td>0</td>\n",
              "      <td>1</td>\n",
              "      <td>3</td>\n",
              "      <td>2.695561</td>\n",
              "      <td>1.276854</td>\n",
              "      <td>0</td>\n",
              "      <td>1</td>\n",
              "    </tr>\n",
              "    <tr>\n",
              "      <th>234</th>\n",
              "      <td>235</td>\n",
              "      <td>DT235</td>\n",
              "      <td>24</td>\n",
              "      <td>G1</td>\n",
              "      <td>24.509717</td>\n",
              "      <td>2</td>\n",
              "      <td>0</td>\n",
              "      <td>3</td>\n",
              "      <td>1</td>\n",
              "      <td>3</td>\n",
              "      <td>6</td>\n",
              "      <td>2.504047</td>\n",
              "      <td>1.295953</td>\n",
              "      <td>1</td>\n",
              "      <td>1</td>\n",
              "    </tr>\n",
              "  </tbody>\n",
              "</table>\n",
              "</div>\n",
              "    <div class=\"colab-df-buttons\">\n",
              "\n",
              "  <div class=\"colab-df-container\">\n",
              "    <button class=\"colab-df-convert\" onclick=\"convertToInteractive('df-997173ab-53f5-481c-98a0-b5e9ddd61476')\"\n",
              "            title=\"Convert this dataframe to an interactive table.\"\n",
              "            style=\"display:none;\">\n",
              "\n",
              "  <svg xmlns=\"http://www.w3.org/2000/svg\" height=\"24px\" viewBox=\"0 -960 960 960\">\n",
              "    <path d=\"M120-120v-720h720v720H120Zm60-500h600v-160H180v160Zm220 220h160v-160H400v160Zm0 220h160v-160H400v160ZM180-400h160v-160H180v160Zm440 0h160v-160H620v160ZM180-180h160v-160H180v160Zm440 0h160v-160H620v160Z\"/>\n",
              "  </svg>\n",
              "    </button>\n",
              "\n",
              "  <style>\n",
              "    .colab-df-container {\n",
              "      display:flex;\n",
              "      gap: 12px;\n",
              "    }\n",
              "\n",
              "    .colab-df-convert {\n",
              "      background-color: #E8F0FE;\n",
              "      border: none;\n",
              "      border-radius: 50%;\n",
              "      cursor: pointer;\n",
              "      display: none;\n",
              "      fill: #1967D2;\n",
              "      height: 32px;\n",
              "      padding: 0 0 0 0;\n",
              "      width: 32px;\n",
              "    }\n",
              "\n",
              "    .colab-df-convert:hover {\n",
              "      background-color: #E2EBFA;\n",
              "      box-shadow: 0px 1px 2px rgba(60, 64, 67, 0.3), 0px 1px 3px 1px rgba(60, 64, 67, 0.15);\n",
              "      fill: #174EA6;\n",
              "    }\n",
              "\n",
              "    .colab-df-buttons div {\n",
              "      margin-bottom: 4px;\n",
              "    }\n",
              "\n",
              "    [theme=dark] .colab-df-convert {\n",
              "      background-color: #3B4455;\n",
              "      fill: #D2E3FC;\n",
              "    }\n",
              "\n",
              "    [theme=dark] .colab-df-convert:hover {\n",
              "      background-color: #434B5C;\n",
              "      box-shadow: 0px 1px 3px 1px rgba(0, 0, 0, 0.15);\n",
              "      filter: drop-shadow(0px 1px 2px rgba(0, 0, 0, 0.3));\n",
              "      fill: #FFFFFF;\n",
              "    }\n",
              "  </style>\n",
              "\n",
              "    <script>\n",
              "      const buttonEl =\n",
              "        document.querySelector('#df-997173ab-53f5-481c-98a0-b5e9ddd61476 button.colab-df-convert');\n",
              "      buttonEl.style.display =\n",
              "        google.colab.kernel.accessAllowed ? 'block' : 'none';\n",
              "\n",
              "      async function convertToInteractive(key) {\n",
              "        const element = document.querySelector('#df-997173ab-53f5-481c-98a0-b5e9ddd61476');\n",
              "        const dataTable =\n",
              "          await google.colab.kernel.invokeFunction('convertToInteractive',\n",
              "                                                    [key], {});\n",
              "        if (!dataTable) return;\n",
              "\n",
              "        const docLinkHtml = 'Like what you see? Visit the ' +\n",
              "          '<a target=\"_blank\" href=https://colab.research.google.com/notebooks/data_table.ipynb>data table notebook</a>'\n",
              "          + ' to learn more about interactive tables.';\n",
              "        element.innerHTML = '';\n",
              "        dataTable['output_type'] = 'display_data';\n",
              "        await google.colab.output.renderOutput(dataTable, element);\n",
              "        const docLink = document.createElement('div');\n",
              "        docLink.innerHTML = docLinkHtml;\n",
              "        element.appendChild(docLink);\n",
              "      }\n",
              "    </script>\n",
              "  </div>\n",
              "\n",
              "\n",
              "<div id=\"df-464a9b8f-4f87-4d5f-a468-83cf8e269160\">\n",
              "  <button class=\"colab-df-quickchart\" onclick=\"quickchart('df-464a9b8f-4f87-4d5f-a468-83cf8e269160')\"\n",
              "            title=\"Suggest charts.\"\n",
              "            style=\"display:none;\">\n",
              "\n",
              "<svg xmlns=\"http://www.w3.org/2000/svg\" height=\"24px\"viewBox=\"0 0 24 24\"\n",
              "     width=\"24px\">\n",
              "    <g>\n",
              "        <path d=\"M19 3H5c-1.1 0-2 .9-2 2v14c0 1.1.9 2 2 2h14c1.1 0 2-.9 2-2V5c0-1.1-.9-2-2-2zM9 17H7v-7h2v7zm4 0h-2V7h2v10zm4 0h-2v-4h2v4z\"/>\n",
              "    </g>\n",
              "</svg>\n",
              "  </button>\n",
              "\n",
              "<style>\n",
              "  .colab-df-quickchart {\n",
              "      --bg-color: #E8F0FE;\n",
              "      --fill-color: #1967D2;\n",
              "      --hover-bg-color: #E2EBFA;\n",
              "      --hover-fill-color: #174EA6;\n",
              "      --disabled-fill-color: #AAA;\n",
              "      --disabled-bg-color: #DDD;\n",
              "  }\n",
              "\n",
              "  [theme=dark] .colab-df-quickchart {\n",
              "      --bg-color: #3B4455;\n",
              "      --fill-color: #D2E3FC;\n",
              "      --hover-bg-color: #434B5C;\n",
              "      --hover-fill-color: #FFFFFF;\n",
              "      --disabled-bg-color: #3B4455;\n",
              "      --disabled-fill-color: #666;\n",
              "  }\n",
              "\n",
              "  .colab-df-quickchart {\n",
              "    background-color: var(--bg-color);\n",
              "    border: none;\n",
              "    border-radius: 50%;\n",
              "    cursor: pointer;\n",
              "    display: none;\n",
              "    fill: var(--fill-color);\n",
              "    height: 32px;\n",
              "    padding: 0;\n",
              "    width: 32px;\n",
              "  }\n",
              "\n",
              "  .colab-df-quickchart:hover {\n",
              "    background-color: var(--hover-bg-color);\n",
              "    box-shadow: 0 1px 2px rgba(60, 64, 67, 0.3), 0 1px 3px 1px rgba(60, 64, 67, 0.15);\n",
              "    fill: var(--button-hover-fill-color);\n",
              "  }\n",
              "\n",
              "  .colab-df-quickchart-complete:disabled,\n",
              "  .colab-df-quickchart-complete:disabled:hover {\n",
              "    background-color: var(--disabled-bg-color);\n",
              "    fill: var(--disabled-fill-color);\n",
              "    box-shadow: none;\n",
              "  }\n",
              "\n",
              "  .colab-df-spinner {\n",
              "    border: 2px solid var(--fill-color);\n",
              "    border-color: transparent;\n",
              "    border-bottom-color: var(--fill-color);\n",
              "    animation:\n",
              "      spin 1s steps(1) infinite;\n",
              "  }\n",
              "\n",
              "  @keyframes spin {\n",
              "    0% {\n",
              "      border-color: transparent;\n",
              "      border-bottom-color: var(--fill-color);\n",
              "      border-left-color: var(--fill-color);\n",
              "    }\n",
              "    20% {\n",
              "      border-color: transparent;\n",
              "      border-left-color: var(--fill-color);\n",
              "      border-top-color: var(--fill-color);\n",
              "    }\n",
              "    30% {\n",
              "      border-color: transparent;\n",
              "      border-left-color: var(--fill-color);\n",
              "      border-top-color: var(--fill-color);\n",
              "      border-right-color: var(--fill-color);\n",
              "    }\n",
              "    40% {\n",
              "      border-color: transparent;\n",
              "      border-right-color: var(--fill-color);\n",
              "      border-top-color: var(--fill-color);\n",
              "    }\n",
              "    60% {\n",
              "      border-color: transparent;\n",
              "      border-right-color: var(--fill-color);\n",
              "    }\n",
              "    80% {\n",
              "      border-color: transparent;\n",
              "      border-right-color: var(--fill-color);\n",
              "      border-bottom-color: var(--fill-color);\n",
              "    }\n",
              "    90% {\n",
              "      border-color: transparent;\n",
              "      border-bottom-color: var(--fill-color);\n",
              "    }\n",
              "  }\n",
              "</style>\n",
              "\n",
              "  <script>\n",
              "    async function quickchart(key) {\n",
              "      const quickchartButtonEl =\n",
              "        document.querySelector('#' + key + ' button');\n",
              "      quickchartButtonEl.disabled = true;  // To prevent multiple clicks.\n",
              "      quickchartButtonEl.classList.add('colab-df-spinner');\n",
              "      try {\n",
              "        const charts = await google.colab.kernel.invokeFunction(\n",
              "            'suggestCharts', [key], {});\n",
              "      } catch (error) {\n",
              "        console.error('Error during call to suggestCharts:', error);\n",
              "      }\n",
              "      quickchartButtonEl.classList.remove('colab-df-spinner');\n",
              "      quickchartButtonEl.classList.add('colab-df-quickchart-complete');\n",
              "    }\n",
              "    (() => {\n",
              "      let quickchartButtonEl =\n",
              "        document.querySelector('#df-464a9b8f-4f87-4d5f-a468-83cf8e269160 button');\n",
              "      quickchartButtonEl.style.display =\n",
              "        google.colab.kernel.accessAllowed ? 'block' : 'none';\n",
              "    })();\n",
              "  </script>\n",
              "</div>\n",
              "    </div>\n",
              "  </div>\n"
            ]
          },
          "metadata": {},
          "execution_count": 57
        }
      ]
    },
    {
      "cell_type": "code",
      "source": [
        "df.shape"
      ],
      "metadata": {
        "colab": {
          "base_uri": "https://localhost:8080/"
        },
        "id": "ba7Ov93AEk9b",
        "outputId": "b63225af-3277-402d-96ad-fb89d1d583c4"
      },
      "execution_count": null,
      "outputs": [
        {
          "output_type": "execute_result",
          "data": {
            "text/plain": [
              "(1100, 15)"
            ]
          },
          "metadata": {},
          "execution_count": 58
        }
      ]
    },
    {
      "cell_type": "code",
      "source": [
        "df.drop (columns = ['Sl No', 'Sample ID','Age'],axis = 1, inplace = True  )"
      ],
      "metadata": {
        "id": "tvx0UrloE3Xe"
      },
      "execution_count": null,
      "outputs": []
    },
    {
      "cell_type": "code",
      "source": [
        "df.shape"
      ],
      "metadata": {
        "colab": {
          "base_uri": "https://localhost:8080/"
        },
        "id": "z6DlhccXGMbU",
        "outputId": "3da66948-04d2-4542-e117-4b96313479ad"
      },
      "execution_count": null,
      "outputs": [
        {
          "output_type": "execute_result",
          "data": {
            "text/plain": [
              "(1100, 12)"
            ]
          },
          "metadata": {},
          "execution_count": 60
        }
      ]
    },
    {
      "cell_type": "code",
      "source": [
        "df.sample(5)"
      ],
      "metadata": {
        "colab": {
          "base_uri": "https://localhost:8080/",
          "height": 226
        },
        "id": "p5y0QHs0HtGc",
        "outputId": "b4651740-05fe-44b6-9816-572d3fac1753"
      },
      "execution_count": null,
      "outputs": [
        {
          "output_type": "execute_result",
          "data": {
            "text/plain": [
              "    Ob_Score        BMI  Consistency_Score  Position_Score  Effacement_Score  \\\n",
              "975       G1  30.253473                  1               1                 3   \n",
              "363       G1  26.016152                  2               0                 2   \n",
              "842       G1  27.706718                  1               1                 1   \n",
              "209       G1  32.087440                  2               0                 1   \n",
              "911       G1  29.486914                  2               0                 3   \n",
              "\n",
              "     Dialation_Score  Station_Score  Total_Bishop_Score  Cerv_Len_cms  \\\n",
              "975                1              0                   6      2.421374   \n",
              "363                0              1                   4           NaN   \n",
              "842                1              0                   4      2.128330   \n",
              "209                3              3                   6      3.018596   \n",
              "911                0              1                   5      2.383893   \n",
              "\n",
              "     Cerv_Wid_cms  Induction  Del_mode  \n",
              "975      1.373279          1         0  \n",
              "363           NaN          1         0  \n",
              "842      1.995470          1         0  \n",
              "209      0.349001          0         1  \n",
              "911      2.137521          1         0  "
            ],
            "text/html": [
              "\n",
              "  <div id=\"df-da20b5d2-7214-488e-b3a5-a38695818c12\" class=\"colab-df-container\">\n",
              "    <div>\n",
              "<style scoped>\n",
              "    .dataframe tbody tr th:only-of-type {\n",
              "        vertical-align: middle;\n",
              "    }\n",
              "\n",
              "    .dataframe tbody tr th {\n",
              "        vertical-align: top;\n",
              "    }\n",
              "\n",
              "    .dataframe thead th {\n",
              "        text-align: right;\n",
              "    }\n",
              "</style>\n",
              "<table border=\"1\" class=\"dataframe\">\n",
              "  <thead>\n",
              "    <tr style=\"text-align: right;\">\n",
              "      <th></th>\n",
              "      <th>Ob_Score</th>\n",
              "      <th>BMI</th>\n",
              "      <th>Consistency_Score</th>\n",
              "      <th>Position_Score</th>\n",
              "      <th>Effacement_Score</th>\n",
              "      <th>Dialation_Score</th>\n",
              "      <th>Station_Score</th>\n",
              "      <th>Total_Bishop_Score</th>\n",
              "      <th>Cerv_Len_cms</th>\n",
              "      <th>Cerv_Wid_cms</th>\n",
              "      <th>Induction</th>\n",
              "      <th>Del_mode</th>\n",
              "    </tr>\n",
              "  </thead>\n",
              "  <tbody>\n",
              "    <tr>\n",
              "      <th>975</th>\n",
              "      <td>G1</td>\n",
              "      <td>30.253473</td>\n",
              "      <td>1</td>\n",
              "      <td>1</td>\n",
              "      <td>3</td>\n",
              "      <td>1</td>\n",
              "      <td>0</td>\n",
              "      <td>6</td>\n",
              "      <td>2.421374</td>\n",
              "      <td>1.373279</td>\n",
              "      <td>1</td>\n",
              "      <td>0</td>\n",
              "    </tr>\n",
              "    <tr>\n",
              "      <th>363</th>\n",
              "      <td>G1</td>\n",
              "      <td>26.016152</td>\n",
              "      <td>2</td>\n",
              "      <td>0</td>\n",
              "      <td>2</td>\n",
              "      <td>0</td>\n",
              "      <td>1</td>\n",
              "      <td>4</td>\n",
              "      <td>NaN</td>\n",
              "      <td>NaN</td>\n",
              "      <td>1</td>\n",
              "      <td>0</td>\n",
              "    </tr>\n",
              "    <tr>\n",
              "      <th>842</th>\n",
              "      <td>G1</td>\n",
              "      <td>27.706718</td>\n",
              "      <td>1</td>\n",
              "      <td>1</td>\n",
              "      <td>1</td>\n",
              "      <td>1</td>\n",
              "      <td>0</td>\n",
              "      <td>4</td>\n",
              "      <td>2.128330</td>\n",
              "      <td>1.995470</td>\n",
              "      <td>1</td>\n",
              "      <td>0</td>\n",
              "    </tr>\n",
              "    <tr>\n",
              "      <th>209</th>\n",
              "      <td>G1</td>\n",
              "      <td>32.087440</td>\n",
              "      <td>2</td>\n",
              "      <td>0</td>\n",
              "      <td>1</td>\n",
              "      <td>3</td>\n",
              "      <td>3</td>\n",
              "      <td>6</td>\n",
              "      <td>3.018596</td>\n",
              "      <td>0.349001</td>\n",
              "      <td>0</td>\n",
              "      <td>1</td>\n",
              "    </tr>\n",
              "    <tr>\n",
              "      <th>911</th>\n",
              "      <td>G1</td>\n",
              "      <td>29.486914</td>\n",
              "      <td>2</td>\n",
              "      <td>0</td>\n",
              "      <td>3</td>\n",
              "      <td>0</td>\n",
              "      <td>1</td>\n",
              "      <td>5</td>\n",
              "      <td>2.383893</td>\n",
              "      <td>2.137521</td>\n",
              "      <td>1</td>\n",
              "      <td>0</td>\n",
              "    </tr>\n",
              "  </tbody>\n",
              "</table>\n",
              "</div>\n",
              "    <div class=\"colab-df-buttons\">\n",
              "\n",
              "  <div class=\"colab-df-container\">\n",
              "    <button class=\"colab-df-convert\" onclick=\"convertToInteractive('df-da20b5d2-7214-488e-b3a5-a38695818c12')\"\n",
              "            title=\"Convert this dataframe to an interactive table.\"\n",
              "            style=\"display:none;\">\n",
              "\n",
              "  <svg xmlns=\"http://www.w3.org/2000/svg\" height=\"24px\" viewBox=\"0 -960 960 960\">\n",
              "    <path d=\"M120-120v-720h720v720H120Zm60-500h600v-160H180v160Zm220 220h160v-160H400v160Zm0 220h160v-160H400v160ZM180-400h160v-160H180v160Zm440 0h160v-160H620v160ZM180-180h160v-160H180v160Zm440 0h160v-160H620v160Z\"/>\n",
              "  </svg>\n",
              "    </button>\n",
              "\n",
              "  <style>\n",
              "    .colab-df-container {\n",
              "      display:flex;\n",
              "      gap: 12px;\n",
              "    }\n",
              "\n",
              "    .colab-df-convert {\n",
              "      background-color: #E8F0FE;\n",
              "      border: none;\n",
              "      border-radius: 50%;\n",
              "      cursor: pointer;\n",
              "      display: none;\n",
              "      fill: #1967D2;\n",
              "      height: 32px;\n",
              "      padding: 0 0 0 0;\n",
              "      width: 32px;\n",
              "    }\n",
              "\n",
              "    .colab-df-convert:hover {\n",
              "      background-color: #E2EBFA;\n",
              "      box-shadow: 0px 1px 2px rgba(60, 64, 67, 0.3), 0px 1px 3px 1px rgba(60, 64, 67, 0.15);\n",
              "      fill: #174EA6;\n",
              "    }\n",
              "\n",
              "    .colab-df-buttons div {\n",
              "      margin-bottom: 4px;\n",
              "    }\n",
              "\n",
              "    [theme=dark] .colab-df-convert {\n",
              "      background-color: #3B4455;\n",
              "      fill: #D2E3FC;\n",
              "    }\n",
              "\n",
              "    [theme=dark] .colab-df-convert:hover {\n",
              "      background-color: #434B5C;\n",
              "      box-shadow: 0px 1px 3px 1px rgba(0, 0, 0, 0.15);\n",
              "      filter: drop-shadow(0px 1px 2px rgba(0, 0, 0, 0.3));\n",
              "      fill: #FFFFFF;\n",
              "    }\n",
              "  </style>\n",
              "\n",
              "    <script>\n",
              "      const buttonEl =\n",
              "        document.querySelector('#df-da20b5d2-7214-488e-b3a5-a38695818c12 button.colab-df-convert');\n",
              "      buttonEl.style.display =\n",
              "        google.colab.kernel.accessAllowed ? 'block' : 'none';\n",
              "\n",
              "      async function convertToInteractive(key) {\n",
              "        const element = document.querySelector('#df-da20b5d2-7214-488e-b3a5-a38695818c12');\n",
              "        const dataTable =\n",
              "          await google.colab.kernel.invokeFunction('convertToInteractive',\n",
              "                                                    [key], {});\n",
              "        if (!dataTable) return;\n",
              "\n",
              "        const docLinkHtml = 'Like what you see? Visit the ' +\n",
              "          '<a target=\"_blank\" href=https://colab.research.google.com/notebooks/data_table.ipynb>data table notebook</a>'\n",
              "          + ' to learn more about interactive tables.';\n",
              "        element.innerHTML = '';\n",
              "        dataTable['output_type'] = 'display_data';\n",
              "        await google.colab.output.renderOutput(dataTable, element);\n",
              "        const docLink = document.createElement('div');\n",
              "        docLink.innerHTML = docLinkHtml;\n",
              "        element.appendChild(docLink);\n",
              "      }\n",
              "    </script>\n",
              "  </div>\n",
              "\n",
              "\n",
              "<div id=\"df-cdea8bd9-1371-4449-aa59-a9ac2bb15b7d\">\n",
              "  <button class=\"colab-df-quickchart\" onclick=\"quickchart('df-cdea8bd9-1371-4449-aa59-a9ac2bb15b7d')\"\n",
              "            title=\"Suggest charts.\"\n",
              "            style=\"display:none;\">\n",
              "\n",
              "<svg xmlns=\"http://www.w3.org/2000/svg\" height=\"24px\"viewBox=\"0 0 24 24\"\n",
              "     width=\"24px\">\n",
              "    <g>\n",
              "        <path d=\"M19 3H5c-1.1 0-2 .9-2 2v14c0 1.1.9 2 2 2h14c1.1 0 2-.9 2-2V5c0-1.1-.9-2-2-2zM9 17H7v-7h2v7zm4 0h-2V7h2v10zm4 0h-2v-4h2v4z\"/>\n",
              "    </g>\n",
              "</svg>\n",
              "  </button>\n",
              "\n",
              "<style>\n",
              "  .colab-df-quickchart {\n",
              "      --bg-color: #E8F0FE;\n",
              "      --fill-color: #1967D2;\n",
              "      --hover-bg-color: #E2EBFA;\n",
              "      --hover-fill-color: #174EA6;\n",
              "      --disabled-fill-color: #AAA;\n",
              "      --disabled-bg-color: #DDD;\n",
              "  }\n",
              "\n",
              "  [theme=dark] .colab-df-quickchart {\n",
              "      --bg-color: #3B4455;\n",
              "      --fill-color: #D2E3FC;\n",
              "      --hover-bg-color: #434B5C;\n",
              "      --hover-fill-color: #FFFFFF;\n",
              "      --disabled-bg-color: #3B4455;\n",
              "      --disabled-fill-color: #666;\n",
              "  }\n",
              "\n",
              "  .colab-df-quickchart {\n",
              "    background-color: var(--bg-color);\n",
              "    border: none;\n",
              "    border-radius: 50%;\n",
              "    cursor: pointer;\n",
              "    display: none;\n",
              "    fill: var(--fill-color);\n",
              "    height: 32px;\n",
              "    padding: 0;\n",
              "    width: 32px;\n",
              "  }\n",
              "\n",
              "  .colab-df-quickchart:hover {\n",
              "    background-color: var(--hover-bg-color);\n",
              "    box-shadow: 0 1px 2px rgba(60, 64, 67, 0.3), 0 1px 3px 1px rgba(60, 64, 67, 0.15);\n",
              "    fill: var(--button-hover-fill-color);\n",
              "  }\n",
              "\n",
              "  .colab-df-quickchart-complete:disabled,\n",
              "  .colab-df-quickchart-complete:disabled:hover {\n",
              "    background-color: var(--disabled-bg-color);\n",
              "    fill: var(--disabled-fill-color);\n",
              "    box-shadow: none;\n",
              "  }\n",
              "\n",
              "  .colab-df-spinner {\n",
              "    border: 2px solid var(--fill-color);\n",
              "    border-color: transparent;\n",
              "    border-bottom-color: var(--fill-color);\n",
              "    animation:\n",
              "      spin 1s steps(1) infinite;\n",
              "  }\n",
              "\n",
              "  @keyframes spin {\n",
              "    0% {\n",
              "      border-color: transparent;\n",
              "      border-bottom-color: var(--fill-color);\n",
              "      border-left-color: var(--fill-color);\n",
              "    }\n",
              "    20% {\n",
              "      border-color: transparent;\n",
              "      border-left-color: var(--fill-color);\n",
              "      border-top-color: var(--fill-color);\n",
              "    }\n",
              "    30% {\n",
              "      border-color: transparent;\n",
              "      border-left-color: var(--fill-color);\n",
              "      border-top-color: var(--fill-color);\n",
              "      border-right-color: var(--fill-color);\n",
              "    }\n",
              "    40% {\n",
              "      border-color: transparent;\n",
              "      border-right-color: var(--fill-color);\n",
              "      border-top-color: var(--fill-color);\n",
              "    }\n",
              "    60% {\n",
              "      border-color: transparent;\n",
              "      border-right-color: var(--fill-color);\n",
              "    }\n",
              "    80% {\n",
              "      border-color: transparent;\n",
              "      border-right-color: var(--fill-color);\n",
              "      border-bottom-color: var(--fill-color);\n",
              "    }\n",
              "    90% {\n",
              "      border-color: transparent;\n",
              "      border-bottom-color: var(--fill-color);\n",
              "    }\n",
              "  }\n",
              "</style>\n",
              "\n",
              "  <script>\n",
              "    async function quickchart(key) {\n",
              "      const quickchartButtonEl =\n",
              "        document.querySelector('#' + key + ' button');\n",
              "      quickchartButtonEl.disabled = true;  // To prevent multiple clicks.\n",
              "      quickchartButtonEl.classList.add('colab-df-spinner');\n",
              "      try {\n",
              "        const charts = await google.colab.kernel.invokeFunction(\n",
              "            'suggestCharts', [key], {});\n",
              "      } catch (error) {\n",
              "        console.error('Error during call to suggestCharts:', error);\n",
              "      }\n",
              "      quickchartButtonEl.classList.remove('colab-df-spinner');\n",
              "      quickchartButtonEl.classList.add('colab-df-quickchart-complete');\n",
              "    }\n",
              "    (() => {\n",
              "      let quickchartButtonEl =\n",
              "        document.querySelector('#df-cdea8bd9-1371-4449-aa59-a9ac2bb15b7d button');\n",
              "      quickchartButtonEl.style.display =\n",
              "        google.colab.kernel.accessAllowed ? 'block' : 'none';\n",
              "    })();\n",
              "  </script>\n",
              "</div>\n",
              "    </div>\n",
              "  </div>\n"
            ]
          },
          "metadata": {},
          "execution_count": 61
        }
      ]
    },
    {
      "cell_type": "code",
      "source": [
        "#ob_score is object and we need to convert it int to number...."
      ],
      "metadata": {
        "id": "RU7wXkJKJ2_a"
      },
      "execution_count": null,
      "outputs": []
    },
    {
      "cell_type": "code",
      "source": [
        "df.dtypes"
      ],
      "metadata": {
        "colab": {
          "base_uri": "https://localhost:8080/"
        },
        "id": "V_YWrn1wGXxa",
        "outputId": "1ce74f04-9b3c-4ec2-9da8-b9a281ff7633"
      },
      "execution_count": null,
      "outputs": [
        {
          "output_type": "execute_result",
          "data": {
            "text/plain": [
              "Ob_Score               object\n",
              "BMI                   float64\n",
              "Consistency_Score       int64\n",
              "Position_Score          int64\n",
              "Effacement_Score        int64\n",
              "Dialation_Score         int64\n",
              "Station_Score           int64\n",
              "Total_Bishop_Score      int64\n",
              "Cerv_Len_cms          float64\n",
              "Cerv_Wid_cms          float64\n",
              "Induction               int64\n",
              "Del_mode                int64\n",
              "dtype: object"
            ]
          },
          "metadata": {},
          "execution_count": 63
        }
      ]
    },
    {
      "cell_type": "code",
      "source": [
        "print(df['Ob_Score'].unique())"
      ],
      "metadata": {
        "colab": {
          "base_uri": "https://localhost:8080/"
        },
        "id": "cGf7jVyzJFNu",
        "outputId": "9235fcbe-96d8-4477-e066-2fc9d7c24a37"
      },
      "execution_count": null,
      "outputs": [
        {
          "output_type": "stream",
          "name": "stdout",
          "text": [
            "['G1' 'G2A1' 'G3A2']\n"
          ]
        }
      ]
    },
    {
      "cell_type": "code",
      "source": [
        "print(df['Ob_Score'].value_counts())"
      ],
      "metadata": {
        "colab": {
          "base_uri": "https://localhost:8080/"
        },
        "id": "gssW29-XJLAv",
        "outputId": "e7e2c61a-199b-4a41-8e38-dd5629d49082"
      },
      "execution_count": null,
      "outputs": [
        {
          "output_type": "stream",
          "name": "stdout",
          "text": [
            "G1      1034\n",
            "G2A1      44\n",
            "G3A2      22\n",
            "Name: Ob_Score, dtype: int64\n"
          ]
        }
      ]
    },
    {
      "cell_type": "code",
      "source": [
        "from sklearn.preprocessing import LabelEncoder\n",
        "label_encoder=LabelEncoder()\n",
        "df['Ob_Score'] = label_encoder.fit_transform(df['Ob_Score'])"
      ],
      "metadata": {
        "id": "tXhEzefSJTpP"
      },
      "execution_count": null,
      "outputs": []
    },
    {
      "cell_type": "code",
      "source": [
        "df.dtypes"
      ],
      "metadata": {
        "colab": {
          "base_uri": "https://localhost:8080/"
        },
        "id": "trYlAhsGJif3",
        "outputId": "3a2d8273-3994-485c-9525-4d66ffad0713"
      },
      "execution_count": null,
      "outputs": [
        {
          "output_type": "execute_result",
          "data": {
            "text/plain": [
              "Ob_Score                int64\n",
              "BMI                   float64\n",
              "Consistency_Score       int64\n",
              "Position_Score          int64\n",
              "Effacement_Score        int64\n",
              "Dialation_Score         int64\n",
              "Station_Score           int64\n",
              "Total_Bishop_Score      int64\n",
              "Cerv_Len_cms          float64\n",
              "Cerv_Wid_cms          float64\n",
              "Induction               int64\n",
              "Del_mode                int64\n",
              "dtype: object"
            ]
          },
          "metadata": {},
          "execution_count": 68
        }
      ]
    },
    {
      "cell_type": "code",
      "source": [
        "print(df['Ob_Score'].unique()) #converted ob_score into numeric values"
      ],
      "metadata": {
        "colab": {
          "base_uri": "https://localhost:8080/"
        },
        "id": "_48JmEFfJwhv",
        "outputId": "38f04db5-b429-4361-a101-bc3de56202d7"
      },
      "execution_count": null,
      "outputs": [
        {
          "output_type": "stream",
          "name": "stdout",
          "text": [
            "[0 1 2]\n"
          ]
        }
      ]
    },
    {
      "cell_type": "code",
      "source": [
        "print(df)"
      ],
      "metadata": {
        "colab": {
          "base_uri": "https://localhost:8080/"
        },
        "id": "O2Rc5QPuNuJn",
        "outputId": "12be41fb-a5b8-4106-c557-64e59079aba8"
      },
      "execution_count": null,
      "outputs": [
        {
          "output_type": "stream",
          "name": "stdout",
          "text": [
            "      Ob_Score        BMI  Consistency_Score  Position_Score  \\\n",
            "0            0  28.255713                  0               0   \n",
            "1            0  29.772191                  2               1   \n",
            "2            0  28.511248                  0               0   \n",
            "3            0  28.772695                  2               0   \n",
            "4            0  27.488918                  0               2   \n",
            "...        ...        ...                ...             ...   \n",
            "1095         0  29.500000                  2               2   \n",
            "1096         0  29.600000                  2               2   \n",
            "1097         0  31.000000                  2               1   \n",
            "1098         0  32.300000                  1               0   \n",
            "1099         0  30.000000                  1               2   \n",
            "\n",
            "      Effacement_Score  Dialation_Score  Station_Score  Total_Bishop_Score  \\\n",
            "0                    3                0              2                   3   \n",
            "1                    0                3              1                   6   \n",
            "2                    2                3              1                   5   \n",
            "3                    0                0              3                   2   \n",
            "4                    1                1              3                   4   \n",
            "...                ...              ...            ...                 ...   \n",
            "1095                 3                1              2                   8   \n",
            "1096                 2                3              3                   9   \n",
            "1097                 1                1              2                   5   \n",
            "1098                 1                2              2                   4   \n",
            "1099                 3                1              0                   7   \n",
            "\n",
            "      Cerv_Len_cms  Cerv_Wid_cms  Induction  Del_mode  \n",
            "0              NaN           NaN          1         1  \n",
            "1              NaN           NaN          1         1  \n",
            "2              NaN           NaN          1         1  \n",
            "3              NaN           NaN          1         1  \n",
            "4              NaN           NaN          1         1  \n",
            "...            ...           ...        ...       ...  \n",
            "1095          2.33          0.90          1         0  \n",
            "1096          2.23          1.63          1         0  \n",
            "1097          2.64          1.08          1         0  \n",
            "1098          2.11          1.90          1         0  \n",
            "1099          1.87          1.52          1         0  \n",
            "\n",
            "[1100 rows x 12 columns]\n"
          ]
        }
      ]
    },
    {
      "cell_type": "code",
      "source": [
        "#We need to remove the NaN values...."
      ],
      "metadata": {
        "id": "daYeQ21nKKnQ"
      },
      "execution_count": null,
      "outputs": []
    },
    {
      "cell_type": "code",
      "source": [
        "df.isnull().sum()"
      ],
      "metadata": {
        "colab": {
          "base_uri": "https://localhost:8080/"
        },
        "id": "ip_wY1dbIM3W",
        "outputId": "10d9a93b-658b-48ef-d43a-2cd2497e0e3e"
      },
      "execution_count": null,
      "outputs": [
        {
          "output_type": "execute_result",
          "data": {
            "text/plain": [
              "Ob_Score                0\n",
              "BMI                     0\n",
              "Consistency_Score       0\n",
              "Position_Score          0\n",
              "Effacement_Score        0\n",
              "Dialation_Score         0\n",
              "Station_Score           0\n",
              "Total_Bishop_Score      0\n",
              "Cerv_Len_cms          660\n",
              "Cerv_Wid_cms          660\n",
              "Induction               0\n",
              "Del_mode                0\n",
              "dtype: int64"
            ]
          },
          "metadata": {},
          "execution_count": 71
        }
      ]
    },
    {
      "cell_type": "code",
      "source": [
        "#plotting a histograph of distribution before resolving the NaN values in both the columns\n",
        "import seaborn as sns\n",
        "fig, axes = plt.subplots(1, 2, figsize=(12, 5))\n",
        "\n",
        "sns.histplot(df['Cerv_Len_cms'], kde=True, ax=axes[0])\n",
        "axes[0].set_title('Cervical Length Histogram')\n",
        "sns.histplot(df['Cerv_Wid_cms'], kde=True, ax=axes[1])\n",
        "axes[1].set_title('Cervical Width Histogram')\n",
        "\n",
        "plt.tight_layout()\n",
        "plt.show()"
      ],
      "metadata": {
        "colab": {
          "base_uri": "https://localhost:8080/",
          "height": 507
        },
        "id": "xS3NlWjoKZOi",
        "outputId": "391dd004-1d5c-48c1-bbef-4a263b9dd044"
      },
      "execution_count": null,
      "outputs": [
        {
          "output_type": "display_data",
          "data": {
            "text/plain": [
              "<Figure size 1200x500 with 2 Axes>"
            ],
            "image/png": "[encoded data removed]"
          },
          "metadata": {}
        }
      ]
    },
    {
      "cell_type": "code",
      "source": [
        "#Missing value treatment using KNN_Imputer(resolving the NaN values)\n",
        "from sklearn.impute import KNNImputer\n",
        "imputer = KNNImputer(n_neighbors=5)\n",
        "df = pd.DataFrame(imputer.fit_transform(df),columns = df.columns)"
      ],
      "metadata": {
        "id": "aPkwbcfdSukI"
      },
      "execution_count": null,
      "outputs": []
    },
    {
      "cell_type": "code",
      "source": [
        "#plot a histograph of distribution after resolving the NaN values in both columns\n",
        "fig, axes = plt.subplots(1, 2, figsize=(12, 5))\n",
        "\n",
        "sns.histplot(df['Cerv_Len_cms'], kde=True, ax=axes[0])\n",
        "axes[0].set_title('Cervical Length Histogram')\n",
        "sns.histplot(df['Cerv_Wid_cms'], kde=True, ax=axes[1])\n",
        "axes[1].set_title('Cervical Width Histogram')\n",
        "\n",
        "plt.tight_layout()\n",
        "plt.show()"
      ],
      "metadata": {
        "colab": {
          "base_uri": "https://localhost:8080/",
          "height": 507
        },
        "id": "Ne5RLgUTS7b0",
        "outputId": "e3e3d760-0113-4bb3-eeb9-13b996b035f7"
      },
      "execution_count": null,
      "outputs": [
        {
          "output_type": "display_data",
          "data": {
            "text/plain": [
              "<Figure size 1200x500 with 2 Axes>"
            ],
            "image/png": "[encoded data removed]"
          },
          "metadata": {}
        }
      ]
    },
    {
      "cell_type": "code",
      "source": [
        "df.isnull().sum() #there are no NaN values in the dataset"
      ],
      "metadata": {
        "colab": {
          "base_uri": "https://localhost:8080/"
        },
        "id": "X6MoickXTKRO",
        "outputId": "b74f5b62-423a-4999-d115-35c41c8e9a00"
      },
      "execution_count": null,
      "outputs": [
        {
          "output_type": "execute_result",
          "data": {
            "text/plain": [
              "Ob_Score              0\n",
              "BMI                   0\n",
              "Consistency_Score     0\n",
              "Position_Score        0\n",
              "Effacement_Score      0\n",
              "Dialation_Score       0\n",
              "Station_Score         0\n",
              "Total_Bishop_Score    0\n",
              "Cerv_Len_cms          0\n",
              "Cerv_Wid_cms          0\n",
              "Induction             0\n",
              "Del_mode              0\n",
              "dtype: int64"
            ]
          },
          "metadata": {},
          "execution_count": 75
        }
      ]
    },
    {
      "cell_type": "code",
      "source": [
        "x = df.iloc[:,0:11]\n",
        "y = df.iloc[:,-1]\n",
        "\n",
        "print(x.shape)\n",
        "print(y.shape)"
      ],
      "metadata": {
        "colab": {
          "base_uri": "https://localhost:8080/"
        },
        "id": "tairGCoEblZe",
        "outputId": "9e14826b-4131-4d10-83db-7b07aa58ea38"
      },
      "execution_count": null,
      "outputs": [
        {
          "output_type": "stream",
          "name": "stdout",
          "text": [
            "(1100, 11)\n",
            "(1100,)\n"
          ]
        }
      ]
    },
    {
      "cell_type": "code",
      "source": [
        "print(x)"
      ],
      "metadata": {
        "colab": {
          "base_uri": "https://localhost:8080/"
        },
        "id": "8Xn_VMBvWBTQ",
        "outputId": "fcd782ba-239d-4549-f91b-8ae7c0f19145"
      },
      "execution_count": null,
      "outputs": [
        {
          "output_type": "stream",
          "name": "stdout",
          "text": [
            "      Ob_Score        BMI  Consistency_Score  Position_Score  \\\n",
            "0          0.0  28.255713                0.0             0.0   \n",
            "1          0.0  29.772191                2.0             1.0   \n",
            "2          0.0  28.511248                0.0             0.0   \n",
            "3          0.0  28.772695                2.0             0.0   \n",
            "4          0.0  27.488918                0.0             2.0   \n",
            "...        ...        ...                ...             ...   \n",
            "1095       0.0  29.500000                2.0             2.0   \n",
            "1096       0.0  29.600000                2.0             2.0   \n",
            "1097       0.0  31.000000                2.0             1.0   \n",
            "1098       0.0  32.300000                1.0             0.0   \n",
            "1099       0.0  30.000000                1.0             2.0   \n",
            "\n",
            "      Effacement_Score  Dialation_Score  Station_Score  Total_Bishop_Score  \\\n",
            "0                  3.0              0.0            2.0                 3.0   \n",
            "1                  0.0              3.0            1.0                 6.0   \n",
            "2                  2.0              3.0            1.0                 5.0   \n",
            "3                  0.0              0.0            3.0                 2.0   \n",
            "4                  1.0              1.0            3.0                 4.0   \n",
            "...                ...              ...            ...                 ...   \n",
            "1095               3.0              1.0            2.0                 8.0   \n",
            "1096               2.0              3.0            3.0                 9.0   \n",
            "1097               1.0              1.0            2.0                 5.0   \n",
            "1098               1.0              2.0            2.0                 4.0   \n",
            "1099               3.0              1.0            0.0                 7.0   \n",
            "\n",
            "      Cerv_Len_cms  Cerv_Wid_cms  Induction  \n",
            "0         2.888916      1.192673        1.0  \n",
            "1         2.674549      1.233754        1.0  \n",
            "2         2.809355      1.590739        1.0  \n",
            "3         2.840022      1.071997        1.0  \n",
            "4         2.489261      1.101085        1.0  \n",
            "...            ...           ...        ...  \n",
            "1095      2.330000      0.900000        1.0  \n",
            "1096      2.230000      1.630000        1.0  \n",
            "1097      2.640000      1.080000        1.0  \n",
            "1098      2.110000      1.900000        1.0  \n",
            "1099      1.870000      1.520000        1.0  \n",
            "\n",
            "[1100 rows x 11 columns]\n"
          ]
        }
      ]
    },
    {
      "cell_type": "code",
      "source": [
        "print(y)"
      ],
      "metadata": {
        "colab": {
          "base_uri": "https://localhost:8080/"
        },
        "id": "OSWsMWXEE3ED",
        "outputId": "6aa3c9bb-4c1d-4b51-cc92-374be9ee97f1"
      },
      "execution_count": null,
      "outputs": [
        {
          "output_type": "stream",
          "name": "stdout",
          "text": [
            "0       1.0\n",
            "1       1.0\n",
            "2       1.0\n",
            "3       1.0\n",
            "4       1.0\n",
            "       ... \n",
            "1095    0.0\n",
            "1096    0.0\n",
            "1097    0.0\n",
            "1098    0.0\n",
            "1099    0.0\n",
            "Name: Del_mode, Length: 1100, dtype: float64\n"
          ]
        }
      ]
    },
    {
      "cell_type": "code",
      "source": [
        "#standardizing the attributes\n",
        "from sklearn.preprocessing import StandardScaler\n",
        "scal = StandardScaler()\n",
        "scaling= scal.fit_transform(x) #scaling is of type array"
      ],
      "metadata": {
        "id": "LF7C-4VKb_t7"
      },
      "execution_count": null,
      "outputs": []
    },
    {
      "cell_type": "code",
      "source": [
        "x=pd.DataFrame(scaling, columns = x.columns)\n",
        "x.sample(5)"
      ],
      "metadata": {
        "colab": {
          "base_uri": "https://localhost:8080/",
          "height": 226
        },
        "id": "4NmesLpjdVph",
        "outputId": "6780dd30-775d-4390-85b7-46aa753c6e28"
      },
      "execution_count": null,
      "outputs": [
        {
          "output_type": "execute_result",
          "data": {
            "text/plain": [
              "     Ob_Score       BMI  Consistency_Score  Position_Score  Effacement_Score  \\\n",
              "244 -0.237356 -0.024372            1.25316        0.065848          1.242464   \n",
              "77  -0.237356  0.071747            0.03327        0.065848         -1.407911   \n",
              "617 -0.237356 -0.006792           -1.18662       -1.161828         -1.407911   \n",
              "314 -0.237356  0.059474            0.03327       -1.161828         -0.524453   \n",
              "684 -0.237356 -0.036642           -1.18662       -1.161828         -0.524453   \n",
              "\n",
              "     Dialation_Score  Station_Score  Total_Bishop_Score  Cerv_Len_cms  \\\n",
              "244         0.488986      -0.436903            1.559467      0.248137   \n",
              "77          0.488986       0.441695           -0.495536      1.186640   \n",
              "617         0.488986       0.441695           -1.523037     -0.473162   \n",
              "314        -1.295044       0.441695           -1.523037      1.242940   \n",
              "684         1.381002      -1.315501           -0.495536     -0.641257   \n",
              "\n",
              "     Cerv_Wid_cms  Induction  \n",
              "244     -1.577119   0.252646  \n",
              "77      -0.419396   0.252646  \n",
              "617     -0.378191   0.252646  \n",
              "314     -1.145584  -3.958114  \n",
              "684      0.121747   0.252646  "
            ],
            "text/html": [
              "\n",
              "  <div id=\"df-0915e399-3e5b-47b1-aa4d-a178034ba1c8\" class=\"colab-df-container\">\n",
              "    <div>\n",
              "<style scoped>\n",
              "    .dataframe tbody tr th:only-of-type {\n",
              "        vertical-align: middle;\n",
              "    }\n",
              "\n",
              "    .dataframe tbody tr th {\n",
              "        vertical-align: top;\n",
              "    }\n",
              "\n",
              "    .dataframe thead th {\n",
              "        text-align: right;\n",
              "    }\n",
              "</style>\n",
              "<table border=\"1\" class=\"dataframe\">\n",
              "  <thead>\n",
              "    <tr style=\"text-align: right;\">\n",
              "      <th></th>\n",
              "      <th>Ob_Score</th>\n",
              "      <th>BMI</th>\n",
              "      <th>Consistency_Score</th>\n",
              "      <th>Position_Score</th>\n",
              "      <th>Effacement_Score</th>\n",
              "      <th>Dialation_Score</th>\n",
              "      <th>Station_Score</th>\n",
              "      <th>Total_Bishop_Score</th>\n",
              "      <th>Cerv_Len_cms</th>\n",
              "      <th>Cerv_Wid_cms</th>\n",
              "      <th>Induction</th>\n",
              "    </tr>\n",
              "  </thead>\n",
              "  <tbody>\n",
              "    <tr>\n",
              "      <th>244</th>\n",
              "      <td>-0.237356</td>\n",
              "      <td>-0.024372</td>\n",
              "      <td>1.25316</td>\n",
              "      <td>0.065848</td>\n",
              "      <td>1.242464</td>\n",
              "      <td>0.488986</td>\n",
              "      <td>-0.436903</td>\n",
              "      <td>1.559467</td>\n",
              "      <td>0.248137</td>\n",
              "      <td>-1.577119</td>\n",
              "      <td>0.252646</td>\n",
              "    </tr>\n",
              "    <tr>\n",
              "      <th>77</th>\n",
              "      <td>-0.237356</td>\n",
              "      <td>0.071747</td>\n",
              "      <td>0.03327</td>\n",
              "      <td>0.065848</td>\n",
              "      <td>-1.407911</td>\n",
              "      <td>0.488986</td>\n",
              "      <td>0.441695</td>\n",
              "      <td>-0.495536</td>\n",
              "      <td>1.186640</td>\n",
              "      <td>-0.419396</td>\n",
              "      <td>0.252646</td>\n",
              "    </tr>\n",
              "    <tr>\n",
              "      <th>617</th>\n",
              "      <td>-0.237356</td>\n",
              "      <td>-0.006792</td>\n",
              "      <td>-1.18662</td>\n",
              "      <td>-1.161828</td>\n",
              "      <td>-1.407911</td>\n",
              "      <td>0.488986</td>\n",
              "      <td>0.441695</td>\n",
              "      <td>-1.523037</td>\n",
              "      <td>-0.473162</td>\n",
              "      <td>-0.378191</td>\n",
              "      <td>0.252646</td>\n",
              "    </tr>\n",
              "    <tr>\n",
              "      <th>314</th>\n",
              "      <td>-0.237356</td>\n",
              "      <td>0.059474</td>\n",
              "      <td>0.03327</td>\n",
              "      <td>-1.161828</td>\n",
              "      <td>-0.524453</td>\n",
              "      <td>-1.295044</td>\n",
              "      <td>0.441695</td>\n",
              "      <td>-1.523037</td>\n",
              "      <td>1.242940</td>\n",
              "      <td>-1.145584</td>\n",
              "      <td>-3.958114</td>\n",
              "    </tr>\n",
              "    <tr>\n",
              "      <th>684</th>\n",
              "      <td>-0.237356</td>\n",
              "      <td>-0.036642</td>\n",
              "      <td>-1.18662</td>\n",
              "      <td>-1.161828</td>\n",
              "      <td>-0.524453</td>\n",
              "      <td>1.381002</td>\n",
              "      <td>-1.315501</td>\n",
              "      <td>-0.495536</td>\n",
              "      <td>-0.641257</td>\n",
              "      <td>0.121747</td>\n",
              "      <td>0.252646</td>\n",
              "    </tr>\n",
              "  </tbody>\n",
              "</table>\n",
              "</div>\n",
              "    <div class=\"colab-df-buttons\">\n",
              "\n",
              "  <div class=\"colab-df-container\">\n",
              "    <button class=\"colab-df-convert\" onclick=\"convertToInteractive('df-0915e399-3e5b-47b1-aa4d-a178034ba1c8')\"\n",
              "            title=\"Convert this dataframe to an interactive table.\"\n",
              "            style=\"display:none;\">\n",
              "\n",
              "  <svg xmlns=\"http://www.w3.org/2000/svg\" height=\"24px\" viewBox=\"0 -960 960 960\">\n",
              "    <path d=\"M120-120v-720h720v720H120Zm60-500h600v-160H180v160Zm220 220h160v-160H400v160Zm0 220h160v-160H400v160ZM180-400h160v-160H180v160Zm440 0h160v-160H620v160ZM180-180h160v-160H180v160Zm440 0h160v-160H620v160Z\"/>\n",
              "  </svg>\n",
              "    </button>\n",
              "\n",
              "  <style>\n",
              "    .colab-df-container {\n",
              "      display:flex;\n",
              "      gap: 12px;\n",
              "    }\n",
              "\n",
              "    .colab-df-convert {\n",
              "      background-color: #E8F0FE;\n",
              "      border: none;\n",
              "      border-radius: 50%;\n",
              "      cursor: pointer;\n",
              "      display: none;\n",
              "      fill: #1967D2;\n",
              "      height: 32px;\n",
              "      padding: 0 0 0 0;\n",
              "      width: 32px;\n",
              "    }\n",
              "\n",
              "    .colab-df-convert:hover {\n",
              "      background-color: #E2EBFA;\n",
              "      box-shadow: 0px 1px 2px rgba(60, 64, 67, 0.3), 0px 1px 3px 1px rgba(60, 64, 67, 0.15);\n",
              "      fill: #174EA6;\n",
              "    }\n",
              "\n",
              "    .colab-df-buttons div {\n",
              "      margin-bottom: 4px;\n",
              "    }\n",
              "\n",
              "    [theme=dark] .colab-df-convert {\n",
              "      background-color: #3B4455;\n",
              "      fill: #D2E3FC;\n",
              "    }\n",
              "\n",
              "    [theme=dark] .colab-df-convert:hover {\n",
              "      background-color: #434B5C;\n",
              "      box-shadow: 0px 1px 3px 1px rgba(0, 0, 0, 0.15);\n",
              "      filter: drop-shadow(0px 1px 2px rgba(0, 0, 0, 0.3));\n",
              "      fill: #FFFFFF;\n",
              "    }\n",
              "  </style>\n",
              "\n",
              "    <script>\n",
              "      const buttonEl =\n",
              "        document.querySelector('#df-0915e399-3e5b-47b1-aa4d-a178034ba1c8 button.colab-df-convert');\n",
              "      buttonEl.style.display =\n",
              "        google.colab.kernel.accessAllowed ? 'block' : 'none';\n",
              "\n",
              "      async function convertToInteractive(key) {\n",
              "        const element = document.querySelector('#df-0915e399-3e5b-47b1-aa4d-a178034ba1c8');\n",
              "        const dataTable =\n",
              "          await google.colab.kernel.invokeFunction('convertToInteractive',\n",
              "                                                    [key], {});\n",
              "        if (!dataTable) return;\n",
              "\n",
              "        const docLinkHtml = 'Like what you see? Visit the ' +\n",
              "          '<a target=\"_blank\" href=https://colab.research.google.com/notebooks/data_table.ipynb>data table notebook</a>'\n",
              "          + ' to learn more about interactive tables.';\n",
              "        element.innerHTML = '';\n",
              "        dataTable['output_type'] = 'display_data';\n",
              "        await google.colab.output.renderOutput(dataTable, element);\n",
              "        const docLink = document.createElement('div');\n",
              "        docLink.innerHTML = docLinkHtml;\n",
              "        element.appendChild(docLink);\n",
              "      }\n",
              "    </script>\n",
              "  </div>\n",
              "\n",
              "\n",
              "<div id=\"df-0a6adc74-aa39-42f9-b1d3-569d4485e536\">\n",
              "  <button class=\"colab-df-quickchart\" onclick=\"quickchart('df-0a6adc74-aa39-42f9-b1d3-569d4485e536')\"\n",
              "            title=\"Suggest charts.\"\n",
              "            style=\"display:none;\">\n",
              "\n",
              "<svg xmlns=\"http://www.w3.org/2000/svg\" height=\"24px\"viewBox=\"0 0 24 24\"\n",
              "     width=\"24px\">\n",
              "    <g>\n",
              "        <path d=\"M19 3H5c-1.1 0-2 .9-2 2v14c0 1.1.9 2 2 2h14c1.1 0 2-.9 2-2V5c0-1.1-.9-2-2-2zM9 17H7v-7h2v7zm4 0h-2V7h2v10zm4 0h-2v-4h2v4z\"/>\n",
              "    </g>\n",
              "</svg>\n",
              "  </button>\n",
              "\n",
              "<style>\n",
              "  .colab-df-quickchart {\n",
              "      --bg-color: #E8F0FE;\n",
              "      --fill-color: #1967D2;\n",
              "      --hover-bg-color: #E2EBFA;\n",
              "      --hover-fill-color: #174EA6;\n",
              "      --disabled-fill-color: #AAA;\n",
              "      --disabled-bg-color: #DDD;\n",
              "  }\n",
              "\n",
              "  [theme=dark] .colab-df-quickchart {\n",
              "      --bg-color: #3B4455;\n",
              "      --fill-color: #D2E3FC;\n",
              "      --hover-bg-color: #434B5C;\n",
              "      --hover-fill-color: #FFFFFF;\n",
              "      --disabled-bg-color: #3B4455;\n",
              "      --disabled-fill-color: #666;\n",
              "  }\n",
              "\n",
              "  .colab-df-quickchart {\n",
              "    background-color: var(--bg-color);\n",
              "    border: none;\n",
              "    border-radius: 50%;\n",
              "    cursor: pointer;\n",
              "    display: none;\n",
              "    fill: var(--fill-color);\n",
              "    height: 32px;\n",
              "    padding: 0;\n",
              "    width: 32px;\n",
              "  }\n",
              "\n",
              "  .colab-df-quickchart:hover {\n",
              "    background-color: var(--hover-bg-color);\n",
              "    box-shadow: 0 1px 2px rgba(60, 64, 67, 0.3), 0 1px 3px 1px rgba(60, 64, 67, 0.15);\n",
              "    fill: var(--button-hover-fill-color);\n",
              "  }\n",
              "\n",
              "  .colab-df-quickchart-complete:disabled,\n",
              "  .colab-df-quickchart-complete:disabled:hover {\n",
              "    background-color: var(--disabled-bg-color);\n",
              "    fill: var(--disabled-fill-color);\n",
              "    box-shadow: none;\n",
              "  }\n",
              "\n",
              "  .colab-df-spinner {\n",
              "    border: 2px solid var(--fill-color);\n",
              "    border-color: transparent;\n",
              "    border-bottom-color: var(--fill-color);\n",
              "    animation:\n",
              "      spin 1s steps(1) infinite;\n",
              "  }\n",
              "\n",
              "  @keyframes spin {\n",
              "    0% {\n",
              "      border-color: transparent;\n",
              "      border-bottom-color: var(--fill-color);\n",
              "      border-left-color: var(--fill-color);\n",
              "    }\n",
              "    20% {\n",
              "      border-color: transparent;\n",
              "      border-left-color: var(--fill-color);\n",
              "      border-top-color: var(--fill-color);\n",
              "    }\n",
              "    30% {\n",
              "      border-color: transparent;\n",
              "      border-left-color: var(--fill-color);\n",
              "      border-top-color: var(--fill-color);\n",
              "      border-right-color: var(--fill-color);\n",
              "    }\n",
              "    40% {\n",
              "      border-color: transparent;\n",
              "      border-right-color: var(--fill-color);\n",
              "      border-top-color: var(--fill-color);\n",
              "    }\n",
              "    60% {\n",
              "      border-color: transparent;\n",
              "      border-right-color: var(--fill-color);\n",
              "    }\n",
              "    80% {\n",
              "      border-color: transparent;\n",
              "      border-right-color: var(--fill-color);\n",
              "      border-bottom-color: var(--fill-color);\n",
              "    }\n",
              "    90% {\n",
              "      border-color: transparent;\n",
              "      border-bottom-color: var(--fill-color);\n",
              "    }\n",
              "  }\n",
              "</style>\n",
              "\n",
              "  <script>\n",
              "    async function quickchart(key) {\n",
              "      const quickchartButtonEl =\n",
              "        document.querySelector('#' + key + ' button');\n",
              "      quickchartButtonEl.disabled = true;  // To prevent multiple clicks.\n",
              "      quickchartButtonEl.classList.add('colab-df-spinner');\n",
              "      try {\n",
              "        const charts = await google.colab.kernel.invokeFunction(\n",
              "            'suggestCharts', [key], {});\n",
              "      } catch (error) {\n",
              "        console.error('Error during call to suggestCharts:', error);\n",
              "      }\n",
              "      quickchartButtonEl.classList.remove('colab-df-spinner');\n",
              "      quickchartButtonEl.classList.add('colab-df-quickchart-complete');\n",
              "    }\n",
              "    (() => {\n",
              "      let quickchartButtonEl =\n",
              "        document.querySelector('#df-0a6adc74-aa39-42f9-b1d3-569d4485e536 button');\n",
              "      quickchartButtonEl.style.display =\n",
              "        google.colab.kernel.accessAllowed ? 'block' : 'none';\n",
              "    })();\n",
              "  </script>\n",
              "</div>\n",
              "    </div>\n",
              "  </div>\n"
            ]
          },
          "metadata": {},
          "execution_count": 80
        }
      ]
    },
    {
      "cell_type": "code",
      "source": [
        "from sklearn.model_selection import train_test_split\n",
        "x_train, x_test, y_train, y_test = train_test_split(x, y, test_size=0.20, random_state=0)\n",
        "x_train.shape , y_train.shape, x_test.shape , y_test.shape"
      ],
      "metadata": {
        "id": "-ekIhpRTd7EK",
        "colab": {
          "base_uri": "https://localhost:8080/"
        },
        "outputId": "1611b5a9-a273-45d0-edea-42a3ad3fd374"
      },
      "execution_count": null,
      "outputs": [
        {
          "output_type": "execute_result",
          "data": {
            "text/plain": [
              "((880, 11), (880,), (220, 11), (220,))"
            ]
          },
          "metadata": {},
          "execution_count": 81
        }
      ]
    },
    {
      "cell_type": "code",
      "source": [
        "import tensorflow as tf\n",
        "from tensorflow import keras\n",
        "from keras import regularizers\n",
        "\n",
        "model=keras.Sequential([\n",
        "    keras.layers.Dense(10,input_shape=(11,),activation='relu'),\n",
        "    keras.layers.Dense(7,activation='relu'),\n",
        "    keras.layers.Dense(4,kernel_regularizer=regularizers.l2(0.01),\n",
        "                       activity_regularizer=regularizers.l1(0.01),activation='relu'),\n",
        "    keras.layers.Dense(1,activation='sigmoid'),\n",
        "])\n",
        "\n",
        "model.compile(optimizer='adam',\n",
        "              loss='binary_crossentropy',\n",
        "              metrics=['accuracy'])\n",
        "\n",
        "model.fit(x_train,y_train,epochs=200)"
      ],
      "metadata": {
        "colab": {
          "base_uri": "https://localhost:8080/"
        },
        "id": "6UFsMTrTDnu6",
        "outputId": "e014fffb-7446-4920-db6f-9722bfb844b7"
      },
      "execution_count": null,
      "outputs": [
        {
          "output_type": "stream",
          "name": "stdout",
          "text": [
            "Epoch 1/200\n",
            "28/28 [==============================] - 2s 2ms/step - loss: 0.7310 - accuracy: 0.5977\n",
            "Epoch 2/200\n",
            "28/28 [==============================] - 0s 2ms/step - loss: 0.7080 - accuracy: 0.6818\n",
            "Epoch 3/200\n",
            "28/28 [==============================] - 0s 3ms/step - loss: 0.6891 - accuracy: 0.6966\n",
            "Epoch 4/200\n",
            "28/28 [==============================] - 0s 2ms/step - loss: 0.6716 - accuracy: 0.7034\n",
            "Epoch 5/200\n",
            "28/28 [==============================] - 0s 2ms/step - loss: 0.6563 - accuracy: 0.7216\n",
            "Epoch 6/200\n",
            "28/28 [==============================] - 0s 2ms/step - loss: 0.6399 - accuracy: 0.7284\n",
            "Epoch 7/200\n",
            "28/28 [==============================] - 0s 3ms/step - loss: 0.6258 - accuracy: 0.7318\n",
            "Epoch 8/200\n",
            "28/28 [==============================] - 0s 2ms/step - loss: 0.6142 - accuracy: 0.7250\n",
            "Epoch 9/200\n",
            "28/28 [==============================] - 0s 2ms/step - loss: 0.6029 - accuracy: 0.7261\n",
            "Epoch 10/200\n",
            "28/28 [==============================] - 0s 2ms/step - loss: 0.5945 - accuracy: 0.7273\n",
            "Epoch 11/200\n",
            "28/28 [==============================] - 0s 2ms/step - loss: 0.5864 - accuracy: 0.7273\n",
            "Epoch 12/200\n",
            "28/28 [==============================] - 0s 2ms/step - loss: 0.5797 - accuracy: 0.7307\n",
            "Epoch 13/200\n",
            "28/28 [==============================] - 0s 2ms/step - loss: 0.5747 - accuracy: 0.7307\n",
            "Epoch 14/200\n",
            "28/28 [==============================] - 0s 2ms/step - loss: 0.5686 - accuracy: 0.7398\n",
            "Epoch 15/200\n",
            "28/28 [==============================] - 0s 2ms/step - loss: 0.5649 - accuracy: 0.7409\n",
            "Epoch 16/200\n",
            "28/28 [==============================] - 0s 2ms/step - loss: 0.5613 - accuracy: 0.7443\n",
            "Epoch 17/200\n",
            "28/28 [==============================] - 0s 2ms/step - loss: 0.5571 - accuracy: 0.7455\n",
            "Epoch 18/200\n",
            "28/28 [==============================] - 0s 3ms/step - loss: 0.5535 - accuracy: 0.7500\n",
            "Epoch 19/200\n",
            "28/28 [==============================] - 0s 2ms/step - loss: 0.5505 - accuracy: 0.7511\n",
            "Epoch 20/200\n",
            "28/28 [==============================] - 0s 2ms/step - loss: 0.5476 - accuracy: 0.7545\n",
            "Epoch 21/200\n",
            "28/28 [==============================] - 0s 2ms/step - loss: 0.5449 - accuracy: 0.7568\n",
            "Epoch 22/200\n",
            "28/28 [==============================] - 0s 2ms/step - loss: 0.5427 - accuracy: 0.7580\n",
            "Epoch 23/200\n",
            "28/28 [==============================] - 0s 2ms/step - loss: 0.5416 - accuracy: 0.7580\n",
            "Epoch 24/200\n",
            "28/28 [==============================] - 0s 2ms/step - loss: 0.5388 - accuracy: 0.7625\n",
            "Epoch 25/200\n",
            "28/28 [==============================] - 0s 2ms/step - loss: 0.5375 - accuracy: 0.7602\n",
            "Epoch 26/200\n",
            "28/28 [==============================] - 0s 2ms/step - loss: 0.5355 - accuracy: 0.7625\n",
            "Epoch 27/200\n",
            "28/28 [==============================] - 0s 2ms/step - loss: 0.5345 - accuracy: 0.7602\n",
            "Epoch 28/200\n",
            "28/28 [==============================] - 0s 2ms/step - loss: 0.5326 - accuracy: 0.7614\n",
            "Epoch 29/200\n",
            "28/28 [==============================] - 0s 2ms/step - loss: 0.5309 - accuracy: 0.7625\n",
            "Epoch 30/200\n",
            "28/28 [==============================] - 0s 2ms/step - loss: 0.5297 - accuracy: 0.7591\n",
            "Epoch 31/200\n",
            "28/28 [==============================] - 0s 2ms/step - loss: 0.5285 - accuracy: 0.7580\n",
            "Epoch 32/200\n",
            "28/28 [==============================] - 0s 2ms/step - loss: 0.5275 - accuracy: 0.7557\n",
            "Epoch 33/200\n",
            "28/28 [==============================] - 0s 2ms/step - loss: 0.5262 - accuracy: 0.7568\n",
            "Epoch 34/200\n",
            "28/28 [==============================] - 0s 2ms/step - loss: 0.5245 - accuracy: 0.7602\n",
            "Epoch 35/200\n",
            "28/28 [==============================] - 0s 2ms/step - loss: 0.5239 - accuracy: 0.7534\n",
            "Epoch 36/200\n",
            "28/28 [==============================] - 0s 3ms/step - loss: 0.5226 - accuracy: 0.7534\n",
            "Epoch 37/200\n",
            "28/28 [==============================] - 0s 2ms/step - loss: 0.5216 - accuracy: 0.7568\n",
            "Epoch 38/200\n",
            "28/28 [==============================] - 0s 2ms/step - loss: 0.5205 - accuracy: 0.7568\n",
            "Epoch 39/200\n",
            "28/28 [==============================] - 0s 2ms/step - loss: 0.5199 - accuracy: 0.7580\n",
            "Epoch 40/200\n",
            "28/28 [==============================] - 0s 2ms/step - loss: 0.5184 - accuracy: 0.7534\n",
            "Epoch 41/200\n",
            "28/28 [==============================] - 0s 2ms/step - loss: 0.5176 - accuracy: 0.7545\n",
            "Epoch 42/200\n",
            "28/28 [==============================] - 0s 2ms/step - loss: 0.5171 - accuracy: 0.7545\n",
            "Epoch 43/200\n",
            "28/28 [==============================] - 0s 2ms/step - loss: 0.5159 - accuracy: 0.7557\n",
            "Epoch 44/200\n",
            "28/28 [==============================] - 0s 3ms/step - loss: 0.5150 - accuracy: 0.7557\n",
            "Epoch 45/200\n",
            "28/28 [==============================] - 0s 2ms/step - loss: 0.5143 - accuracy: 0.7568\n",
            "Epoch 46/200\n",
            "28/28 [==============================] - 0s 2ms/step - loss: 0.5131 - accuracy: 0.7580\n",
            "Epoch 47/200\n",
            "28/28 [==============================] - 0s 3ms/step - loss: 0.5127 - accuracy: 0.7580\n",
            "Epoch 48/200\n",
            "28/28 [==============================] - 0s 2ms/step - loss: 0.5120 - accuracy: 0.7602\n",
            "Epoch 49/200\n",
            "28/28 [==============================] - 0s 2ms/step - loss: 0.5109 - accuracy: 0.7614\n",
            "Epoch 50/200\n",
            "28/28 [==============================] - 0s 2ms/step - loss: 0.5102 - accuracy: 0.7614\n",
            "Epoch 51/200\n",
            "28/28 [==============================] - 0s 2ms/step - loss: 0.5094 - accuracy: 0.7659\n",
            "Epoch 52/200\n",
            "28/28 [==============================] - 0s 2ms/step - loss: 0.5087 - accuracy: 0.7636\n",
            "Epoch 53/200\n",
            "28/28 [==============================] - 0s 2ms/step - loss: 0.5078 - accuracy: 0.7670\n",
            "Epoch 54/200\n",
            "28/28 [==============================] - 0s 2ms/step - loss: 0.5070 - accuracy: 0.7648\n",
            "Epoch 55/200\n",
            "28/28 [==============================] - 0s 2ms/step - loss: 0.5061 - accuracy: 0.7625\n",
            "Epoch 56/200\n",
            "28/28 [==============================] - 0s 2ms/step - loss: 0.5055 - accuracy: 0.7670\n",
            "Epoch 57/200\n",
            "28/28 [==============================] - 0s 2ms/step - loss: 0.5046 - accuracy: 0.7659\n",
            "Epoch 58/200\n",
            "28/28 [==============================] - 0s 3ms/step - loss: 0.5038 - accuracy: 0.7659\n",
            "Epoch 59/200\n",
            "28/28 [==============================] - 0s 2ms/step - loss: 0.5031 - accuracy: 0.7693\n",
            "Epoch 60/200\n",
            "28/28 [==============================] - 0s 2ms/step - loss: 0.5024 - accuracy: 0.7705\n",
            "Epoch 61/200\n",
            "28/28 [==============================] - 0s 3ms/step - loss: 0.5018 - accuracy: 0.7682\n",
            "Epoch 62/200\n",
            "28/28 [==============================] - 0s 2ms/step - loss: 0.5013 - accuracy: 0.7705\n",
            "Epoch 63/200\n",
            "28/28 [==============================] - 0s 2ms/step - loss: 0.5004 - accuracy: 0.7705\n",
            "Epoch 64/200\n",
            "28/28 [==============================] - 0s 3ms/step - loss: 0.5006 - accuracy: 0.7739\n",
            "Epoch 65/200\n",
            "28/28 [==============================] - 0s 2ms/step - loss: 0.4994 - accuracy: 0.7693\n",
            "Epoch 66/200\n",
            "28/28 [==============================] - 0s 2ms/step - loss: 0.4983 - accuracy: 0.7761\n",
            "Epoch 67/200\n",
            "28/28 [==============================] - 0s 2ms/step - loss: 0.4979 - accuracy: 0.7727\n",
            "Epoch 68/200\n",
            "28/28 [==============================] - 0s 2ms/step - loss: 0.4979 - accuracy: 0.7784\n",
            "Epoch 69/200\n",
            "28/28 [==============================] - 0s 2ms/step - loss: 0.4970 - accuracy: 0.7830\n",
            "Epoch 70/200\n",
            "28/28 [==============================] - 0s 2ms/step - loss: 0.4963 - accuracy: 0.7761\n",
            "Epoch 71/200\n",
            "28/28 [==============================] - 0s 2ms/step - loss: 0.4957 - accuracy: 0.7795\n",
            "Epoch 72/200\n",
            "28/28 [==============================] - 0s 2ms/step - loss: 0.4951 - accuracy: 0.7727\n",
            "Epoch 73/200\n",
            "28/28 [==============================] - 0s 2ms/step - loss: 0.4944 - accuracy: 0.7773\n",
            "Epoch 74/200\n",
            "28/28 [==============================] - 0s 2ms/step - loss: 0.4936 - accuracy: 0.7784\n",
            "Epoch 75/200\n",
            "28/28 [==============================] - 0s 3ms/step - loss: 0.4936 - accuracy: 0.7795\n",
            "Epoch 76/200\n",
            "28/28 [==============================] - 0s 2ms/step - loss: 0.4932 - accuracy: 0.7807\n",
            "Epoch 77/200\n",
            "28/28 [==============================] - 0s 2ms/step - loss: 0.4921 - accuracy: 0.7807\n",
            "Epoch 78/200\n",
            "28/28 [==============================] - 0s 2ms/step - loss: 0.4923 - accuracy: 0.7807\n",
            "Epoch 79/200\n",
            "28/28 [==============================] - 0s 2ms/step - loss: 0.4918 - accuracy: 0.7807\n",
            "Epoch 80/200\n",
            "28/28 [==============================] - 0s 2ms/step - loss: 0.4901 - accuracy: 0.7795\n",
            "Epoch 81/200\n",
            "28/28 [==============================] - 0s 3ms/step - loss: 0.4899 - accuracy: 0.7795\n",
            "Epoch 82/200\n",
            "28/28 [==============================] - 0s 3ms/step - loss: 0.4893 - accuracy: 0.7818\n",
            "Epoch 83/200\n",
            "28/28 [==============================] - 0s 3ms/step - loss: 0.4892 - accuracy: 0.7818\n",
            "Epoch 84/200\n",
            "28/28 [==============================] - 0s 3ms/step - loss: 0.4879 - accuracy: 0.7818\n",
            "Epoch 85/200\n",
            "28/28 [==============================] - 0s 3ms/step - loss: 0.4878 - accuracy: 0.7830\n",
            "Epoch 86/200\n",
            "28/28 [==============================] - 0s 3ms/step - loss: 0.4870 - accuracy: 0.7830\n",
            "Epoch 87/200\n",
            "28/28 [==============================] - 0s 5ms/step - loss: 0.4864 - accuracy: 0.7830\n",
            "Epoch 88/200\n",
            "28/28 [==============================] - 0s 4ms/step - loss: 0.4857 - accuracy: 0.7875\n",
            "Epoch 89/200\n",
            "28/28 [==============================] - 0s 3ms/step - loss: 0.4853 - accuracy: 0.7841\n",
            "Epoch 90/200\n",
            "28/28 [==============================] - 0s 3ms/step - loss: 0.4849 - accuracy: 0.7864\n",
            "Epoch 91/200\n",
            "28/28 [==============================] - 0s 3ms/step - loss: 0.4840 - accuracy: 0.7886\n",
            "Epoch 92/200\n",
            "28/28 [==============================] - 0s 3ms/step - loss: 0.4835 - accuracy: 0.7875\n",
            "Epoch 93/200\n",
            "28/28 [==============================] - 0s 3ms/step - loss: 0.4827 - accuracy: 0.7841\n",
            "Epoch 94/200\n",
            "28/28 [==============================] - 0s 3ms/step - loss: 0.4820 - accuracy: 0.7886\n",
            "Epoch 95/200\n",
            "28/28 [==============================] - 0s 3ms/step - loss: 0.4813 - accuracy: 0.7886\n",
            "Epoch 96/200\n",
            "28/28 [==============================] - 0s 3ms/step - loss: 0.4807 - accuracy: 0.7886\n",
            "Epoch 97/200\n",
            "28/28 [==============================] - 0s 4ms/step - loss: 0.4804 - accuracy: 0.7932\n",
            "Epoch 98/200\n",
            "28/28 [==============================] - 0s 3ms/step - loss: 0.4805 - accuracy: 0.7864\n",
            "Epoch 99/200\n",
            "28/28 [==============================] - 0s 4ms/step - loss: 0.4794 - accuracy: 0.7886\n",
            "Epoch 100/200\n",
            "28/28 [==============================] - 0s 3ms/step - loss: 0.4788 - accuracy: 0.7909\n",
            "Epoch 101/200\n",
            "28/28 [==============================] - 0s 3ms/step - loss: 0.4771 - accuracy: 0.7920\n",
            "Epoch 102/200\n",
            "28/28 [==============================] - 0s 4ms/step - loss: 0.4771 - accuracy: 0.7898\n",
            "Epoch 103/200\n",
            "28/28 [==============================] - 0s 4ms/step - loss: 0.4764 - accuracy: 0.7909\n",
            "Epoch 104/200\n",
            "28/28 [==============================] - 0s 3ms/step - loss: 0.4753 - accuracy: 0.7932\n",
            "Epoch 105/200\n",
            "28/28 [==============================] - 0s 4ms/step - loss: 0.4748 - accuracy: 0.7955\n",
            "Epoch 106/200\n",
            "28/28 [==============================] - 0s 3ms/step - loss: 0.4748 - accuracy: 0.7966\n",
            "Epoch 107/200\n",
            "28/28 [==============================] - 0s 3ms/step - loss: 0.4732 - accuracy: 0.7932\n",
            "Epoch 108/200\n",
            "28/28 [==============================] - 0s 4ms/step - loss: 0.4725 - accuracy: 0.7955\n",
            "Epoch 109/200\n",
            "28/28 [==============================] - 0s 3ms/step - loss: 0.4716 - accuracy: 0.7932\n",
            "Epoch 110/200\n",
            "28/28 [==============================] - 0s 3ms/step - loss: 0.4713 - accuracy: 0.7989\n",
            "Epoch 111/200\n",
            "28/28 [==============================] - 0s 3ms/step - loss: 0.4703 - accuracy: 0.8000\n",
            "Epoch 112/200\n",
            "28/28 [==============================] - 0s 2ms/step - loss: 0.4702 - accuracy: 0.7977\n",
            "Epoch 113/200\n",
            "28/28 [==============================] - 0s 2ms/step - loss: 0.4696 - accuracy: 0.7966\n",
            "Epoch 114/200\n",
            "28/28 [==============================] - 0s 2ms/step - loss: 0.4687 - accuracy: 0.7966\n",
            "Epoch 115/200\n",
            "28/28 [==============================] - 0s 2ms/step - loss: 0.4680 - accuracy: 0.8000\n",
            "Epoch 116/200\n",
            "28/28 [==============================] - 0s 2ms/step - loss: 0.4682 - accuracy: 0.7966\n",
            "Epoch 117/200\n",
            "28/28 [==============================] - 0s 2ms/step - loss: 0.4669 - accuracy: 0.8011\n",
            "Epoch 118/200\n",
            "28/28 [==============================] - 0s 2ms/step - loss: 0.4659 - accuracy: 0.8068\n",
            "Epoch 119/200\n",
            "28/28 [==============================] - 0s 2ms/step - loss: 0.4660 - accuracy: 0.8011\n",
            "Epoch 120/200\n",
            "28/28 [==============================] - 0s 2ms/step - loss: 0.4648 - accuracy: 0.8034\n",
            "Epoch 121/200\n",
            "28/28 [==============================] - 0s 2ms/step - loss: 0.4642 - accuracy: 0.8023\n",
            "Epoch 122/200\n",
            "28/28 [==============================] - 0s 2ms/step - loss: 0.4633 - accuracy: 0.8045\n",
            "Epoch 123/200\n",
            "28/28 [==============================] - 0s 3ms/step - loss: 0.4635 - accuracy: 0.8023\n",
            "Epoch 124/200\n",
            "28/28 [==============================] - 0s 2ms/step - loss: 0.4627 - accuracy: 0.8023\n",
            "Epoch 125/200\n",
            "28/28 [==============================] - 0s 2ms/step - loss: 0.4624 - accuracy: 0.8034\n",
            "Epoch 126/200\n",
            "28/28 [==============================] - 0s 2ms/step - loss: 0.4622 - accuracy: 0.8057\n",
            "Epoch 127/200\n",
            "28/28 [==============================] - 0s 2ms/step - loss: 0.4610 - accuracy: 0.8068\n",
            "Epoch 128/200\n",
            "28/28 [==============================] - 0s 2ms/step - loss: 0.4618 - accuracy: 0.8057\n",
            "Epoch 129/200\n",
            "28/28 [==============================] - 0s 2ms/step - loss: 0.4599 - accuracy: 0.8114\n",
            "Epoch 130/200\n",
            "28/28 [==============================] - 0s 2ms/step - loss: 0.4594 - accuracy: 0.8068\n",
            "Epoch 131/200\n",
            "28/28 [==============================] - 0s 2ms/step - loss: 0.4596 - accuracy: 0.8080\n",
            "Epoch 132/200\n",
            "28/28 [==============================] - 0s 2ms/step - loss: 0.4587 - accuracy: 0.8091\n",
            "Epoch 133/200\n",
            "28/28 [==============================] - 0s 3ms/step - loss: 0.4575 - accuracy: 0.8125\n",
            "Epoch 134/200\n",
            "28/28 [==============================] - 0s 2ms/step - loss: 0.4578 - accuracy: 0.8102\n",
            "Epoch 135/200\n",
            "28/28 [==============================] - 0s 3ms/step - loss: 0.4567 - accuracy: 0.8080\n",
            "Epoch 136/200\n",
            "28/28 [==============================] - 0s 2ms/step - loss: 0.4572 - accuracy: 0.8102\n",
            "Epoch 137/200\n",
            "28/28 [==============================] - 0s 2ms/step - loss: 0.4561 - accuracy: 0.8034\n",
            "Epoch 138/200\n",
            "28/28 [==============================] - 0s 2ms/step - loss: 0.4556 - accuracy: 0.8148\n",
            "Epoch 139/200\n",
            "28/28 [==============================] - 0s 2ms/step - loss: 0.4549 - accuracy: 0.8102\n",
            "Epoch 140/200\n",
            "28/28 [==============================] - 0s 3ms/step - loss: 0.4545 - accuracy: 0.8102\n",
            "Epoch 141/200\n",
            "28/28 [==============================] - 0s 2ms/step - loss: 0.4539 - accuracy: 0.8091\n",
            "Epoch 142/200\n",
            "28/28 [==============================] - 0s 2ms/step - loss: 0.4533 - accuracy: 0.8102\n",
            "Epoch 143/200\n",
            "28/28 [==============================] - 0s 2ms/step - loss: 0.4525 - accuracy: 0.8125\n",
            "Epoch 144/200\n",
            "28/28 [==============================] - 0s 2ms/step - loss: 0.4526 - accuracy: 0.8136\n",
            "Epoch 145/200\n",
            "28/28 [==============================] - 0s 2ms/step - loss: 0.4520 - accuracy: 0.8114\n",
            "Epoch 146/200\n",
            "28/28 [==============================] - 0s 2ms/step - loss: 0.4513 - accuracy: 0.8125\n",
            "Epoch 147/200\n",
            "28/28 [==============================] - 0s 3ms/step - loss: 0.4508 - accuracy: 0.8136\n",
            "Epoch 148/200\n",
            "28/28 [==============================] - 0s 2ms/step - loss: 0.4507 - accuracy: 0.8148\n",
            "Epoch 149/200\n",
            "28/28 [==============================] - 0s 3ms/step - loss: 0.4499 - accuracy: 0.8148\n",
            "Epoch 150/200\n",
            "28/28 [==============================] - 0s 2ms/step - loss: 0.4492 - accuracy: 0.8159\n",
            "Epoch 151/200\n",
            "28/28 [==============================] - 0s 2ms/step - loss: 0.4491 - accuracy: 0.8159\n",
            "Epoch 152/200\n",
            "28/28 [==============================] - 0s 2ms/step - loss: 0.4485 - accuracy: 0.8170\n",
            "Epoch 153/200\n",
            "28/28 [==============================] - 0s 2ms/step - loss: 0.4489 - accuracy: 0.8148\n",
            "Epoch 154/200\n",
            "28/28 [==============================] - 0s 2ms/step - loss: 0.4479 - accuracy: 0.8159\n",
            "Epoch 155/200\n",
            "28/28 [==============================] - 0s 3ms/step - loss: 0.4473 - accuracy: 0.8148\n",
            "Epoch 156/200\n",
            "28/28 [==============================] - 0s 2ms/step - loss: 0.4476 - accuracy: 0.8091\n",
            "Epoch 157/200\n",
            "28/28 [==============================] - 0s 2ms/step - loss: 0.4475 - accuracy: 0.8148\n",
            "Epoch 158/200\n",
            "28/28 [==============================] - 0s 2ms/step - loss: 0.4455 - accuracy: 0.8182\n",
            "Epoch 159/200\n",
            "28/28 [==============================] - 0s 2ms/step - loss: 0.4460 - accuracy: 0.8170\n",
            "Epoch 160/200\n",
            "28/28 [==============================] - 0s 2ms/step - loss: 0.4451 - accuracy: 0.8148\n",
            "Epoch 161/200\n",
            "28/28 [==============================] - 0s 2ms/step - loss: 0.4450 - accuracy: 0.8159\n",
            "Epoch 162/200\n",
            "28/28 [==============================] - 0s 2ms/step - loss: 0.4442 - accuracy: 0.8182\n",
            "Epoch 163/200\n",
            "28/28 [==============================] - 0s 3ms/step - loss: 0.4436 - accuracy: 0.8193\n",
            "Epoch 164/200\n",
            "28/28 [==============================] - 0s 2ms/step - loss: 0.4433 - accuracy: 0.8193\n",
            "Epoch 165/200\n",
            "28/28 [==============================] - 0s 2ms/step - loss: 0.4429 - accuracy: 0.8170\n",
            "Epoch 166/200\n",
            "28/28 [==============================] - 0s 2ms/step - loss: 0.4429 - accuracy: 0.8205\n",
            "Epoch 167/200\n",
            "28/28 [==============================] - 0s 2ms/step - loss: 0.4421 - accuracy: 0.8227\n",
            "Epoch 168/200\n",
            "28/28 [==============================] - 0s 2ms/step - loss: 0.4417 - accuracy: 0.8159\n",
            "Epoch 169/200\n",
            "28/28 [==============================] - 0s 2ms/step - loss: 0.4407 - accuracy: 0.8216\n",
            "Epoch 170/200\n",
            "28/28 [==============================] - 0s 2ms/step - loss: 0.4401 - accuracy: 0.8193\n",
            "Epoch 171/200\n",
            "28/28 [==============================] - 0s 2ms/step - loss: 0.4406 - accuracy: 0.8182\n",
            "Epoch 172/200\n",
            "28/28 [==============================] - 0s 2ms/step - loss: 0.4399 - accuracy: 0.8205\n",
            "Epoch 173/200\n",
            "28/28 [==============================] - 0s 2ms/step - loss: 0.4390 - accuracy: 0.8216\n",
            "Epoch 174/200\n",
            "28/28 [==============================] - 0s 2ms/step - loss: 0.4384 - accuracy: 0.8239\n",
            "Epoch 175/200\n",
            "28/28 [==============================] - 0s 2ms/step - loss: 0.4385 - accuracy: 0.8239\n",
            "Epoch 176/200\n",
            "28/28 [==============================] - 0s 2ms/step - loss: 0.4383 - accuracy: 0.8205\n",
            "Epoch 177/200\n",
            "28/28 [==============================] - 0s 2ms/step - loss: 0.4380 - accuracy: 0.8216\n",
            "Epoch 178/200\n",
            "28/28 [==============================] - 0s 3ms/step - loss: 0.4378 - accuracy: 0.8193\n",
            "Epoch 179/200\n",
            "28/28 [==============================] - 0s 2ms/step - loss: 0.4373 - accuracy: 0.8205\n",
            "Epoch 180/200\n",
            "28/28 [==============================] - 0s 2ms/step - loss: 0.4376 - accuracy: 0.8170\n",
            "Epoch 181/200\n",
            "28/28 [==============================] - 0s 2ms/step - loss: 0.4368 - accuracy: 0.8227\n",
            "Epoch 182/200\n",
            "28/28 [==============================] - 0s 2ms/step - loss: 0.4361 - accuracy: 0.8205\n",
            "Epoch 183/200\n",
            "28/28 [==============================] - 0s 2ms/step - loss: 0.4353 - accuracy: 0.8216\n",
            "Epoch 184/200\n",
            "28/28 [==============================] - 0s 2ms/step - loss: 0.4360 - accuracy: 0.8239\n",
            "Epoch 185/200\n",
            "28/28 [==============================] - 0s 2ms/step - loss: 0.4356 - accuracy: 0.8216\n",
            "Epoch 186/200\n",
            "28/28 [==============================] - 0s 2ms/step - loss: 0.4355 - accuracy: 0.8216\n",
            "Epoch 187/200\n",
            "28/28 [==============================] - 0s 2ms/step - loss: 0.4345 - accuracy: 0.8227\n",
            "Epoch 188/200\n",
            "28/28 [==============================] - 0s 2ms/step - loss: 0.4348 - accuracy: 0.8182\n",
            "Epoch 189/200\n",
            "28/28 [==============================] - 0s 3ms/step - loss: 0.4334 - accuracy: 0.8205\n",
            "Epoch 190/200\n",
            "28/28 [==============================] - 0s 2ms/step - loss: 0.4329 - accuracy: 0.8193\n",
            "Epoch 191/200\n",
            "28/28 [==============================] - 0s 2ms/step - loss: 0.4325 - accuracy: 0.8250\n",
            "Epoch 192/200\n",
            "28/28 [==============================] - 0s 2ms/step - loss: 0.4321 - accuracy: 0.8250\n",
            "Epoch 193/200\n",
            "28/28 [==============================] - 0s 2ms/step - loss: 0.4315 - accuracy: 0.8227\n",
            "Epoch 194/200\n",
            "28/28 [==============================] - 0s 2ms/step - loss: 0.4315 - accuracy: 0.8250\n",
            "Epoch 195/200\n",
            "28/28 [==============================] - 0s 2ms/step - loss: 0.4315 - accuracy: 0.8227\n",
            "Epoch 196/200\n",
            "28/28 [==============================] - 0s 2ms/step - loss: 0.4314 - accuracy: 0.8227\n",
            "Epoch 197/200\n",
            "28/28 [==============================] - 0s 2ms/step - loss: 0.4307 - accuracy: 0.8216\n",
            "Epoch 198/200\n",
            "28/28 [==============================] - 0s 2ms/step - loss: 0.4305 - accuracy: 0.8250\n",
            "Epoch 199/200\n",
            "28/28 [==============================] - 0s 2ms/step - loss: 0.4305 - accuracy: 0.8239\n",
            "Epoch 200/200\n",
            "28/28 [==============================] - 0s 2ms/step - loss: 0.4298 - accuracy: 0.8216\n"
          ]
        },
        {
          "output_type": "execute_result",
          "data": {
            "text/plain": [
              "<keras.src.callbacks.History at 0x7d4edcfbaf50>"
            ]
          },
          "metadata": {},
          "execution_count": 95
        }
      ]
    },
    {
      "cell_type": "code",
      "source": [
        "model.evaluate(x_test)"
      ],
      "metadata": {
        "colab": {
          "base_uri": "https://localhost:8080/"
        },
        "id": "Rg88Qs-kLbHq",
        "outputId": "5917c1d2-44fe-469a-ff4f-af831cb55d2d"
      },
      "execution_count": null,
      "outputs": [
        {
          "output_type": "stream",
          "name": "stdout",
          "text": [
            "7/7 [==============================] - 0s 3ms/step - loss: 0.0261 - accuracy: 0.0000e+00\n"
          ]
        },
        {
          "output_type": "execute_result",
          "data": {
            "text/plain": [
              "[0.02609609067440033, 0.0]"
            ]
          },
          "metadata": {},
          "execution_count": 96
        }
      ]
    },
    {
      "cell_type": "code",
      "source": [
        "p=model.predict(x_test)\n",
        "p[:5]"
      ],
      "metadata": {
        "colab": {
          "base_uri": "https://localhost:8080/"
        },
        "id": "TdAZWG2zMDmH",
        "outputId": "c356d215-03be-4cc2-a4ee-adfb31cc3519"
      },
      "execution_count": null,
      "outputs": [
        {
          "output_type": "stream",
          "name": "stdout",
          "text": [
            "7/7 [==============================] - 0s 2ms/step\n"
          ]
        },
        {
          "output_type": "execute_result",
          "data": {
            "text/plain": [
              "array([[0.25215364],\n",
              "       [0.30805907],\n",
              "       [0.17236206],\n",
              "       [0.02344192],\n",
              "       [0.37264508]], dtype=float32)"
            ]
          },
          "metadata": {},
          "execution_count": 97
        }
      ]
    },
    {
      "cell_type": "code",
      "source": [
        "y_test[:5]"
      ],
      "metadata": {
        "colab": {
          "base_uri": "https://localhost:8080/"
        },
        "id": "UlzaA4mXMeUI",
        "outputId": "d7981f6c-886b-498f-871a-67f32aecbc8e"
      },
      "execution_count": null,
      "outputs": [
        {
          "output_type": "execute_result",
          "data": {
            "text/plain": [
              "395     0.0\n",
              "860     0.0\n",
              "477     0.0\n",
              "671     0.0\n",
              "1002    1.0\n",
              "Name: Del_mode, dtype: float64"
            ]
          },
          "metadata": {},
          "execution_count": 98
        }
      ]
    },
    {
      "cell_type": "code",
      "source": [
        "predict=[]\n",
        "for ele in p:\n",
        "  if ele>0.5:\n",
        "    predict.append(1)\n",
        "  else:\n",
        "    predict.append(0)"
      ],
      "metadata": {
        "id": "ycLylz19MxMM"
      },
      "execution_count": null,
      "outputs": []
    },
    {
      "cell_type": "code",
      "source": [
        "predict[:5]"
      ],
      "metadata": {
        "colab": {
          "base_uri": "https://localhost:8080/"
        },
        "id": "ZPZmziHBNXTP",
        "outputId": "d2b1561c-74e7-4333-8354-4507b6fb3832"
      },
      "execution_count": null,
      "outputs": [
        {
          "output_type": "execute_result",
          "data": {
            "text/plain": [
              "[0, 0, 0, 0, 0]"
            ]
          },
          "metadata": {},
          "execution_count": 100
        }
      ]
    },
    {
      "cell_type": "code",
      "source": [
        "from sklearn.metrics import confusion_matrix,classification_report\n",
        "print(classification_report(y_test,predict))"
      ],
      "metadata": {
        "colab": {
          "base_uri": "https://localhost:8080/"
        },
        "id": "zT8hqUfLTRb8",
        "outputId": "26fe464e-04b7-45b7-c766-4a715bcff401"
      },
      "execution_count": null,
      "outputs": [
        {
          "output_type": "stream",
          "name": "stdout",
          "text": [
            "              precision    recall  f1-score   support\n",
            "\n",
            "         0.0       0.81      0.90      0.85       159\n",
            "         1.0       0.64      0.46      0.53        61\n",
            "\n",
            "    accuracy                           0.78       220\n",
            "   macro avg       0.72      0.68      0.69       220\n",
            "weighted avg       0.76      0.78      0.76       220\n",
            "\n"
          ]
        }
      ]
    },
    {
      "cell_type": "code",
      "source": [
        "cm=tf.math.confusion_matrix(labels=y_test,predictions=predict)\n",
        "\n",
        "plt.figure(figsize=(10,7))\n",
        "sns.heatmap(cm,annot=True,fmt='d')\n",
        "plt.xlabel('Predicted')\n",
        "plt.ylabel(\"Truth\")"
      ],
      "metadata": {
        "colab": {
          "base_uri": "https://localhost:8080/",
          "height": 636
        },
        "id": "HuDPQLENNjT4",
        "outputId": "49f90159-7788-4484-b793-711e1fb9274d"
      },
      "execution_count": null,
      "outputs": [
        {
          "output_type": "execute_result",
          "data": {
            "text/plain": [
              "Text(95.72222222222221, 0.5, 'Truth')"
            ]
          },
          "metadata": {},
          "execution_count": 102
        },
        {
          "output_type": "display_data",
          "data": {
            "text/plain": [
              "<Figure size 1000x700 with 2 Axes>"
            ],
            "image/png": "[encoded data removed]"
          },
          "metadata": {}
        }
      ]
    },
    {
      "cell_type": "code",
      "source": [
        "obs=0\n",
        "bmi=28.255713\n",
        "pos=0\n",
        "cons=0\n",
        "eff=3\n",
        "dial=0\n",
        "stat=2\n",
        "bis=3\n",
        "cervl=2.833775\n",
        "cervw=1.264517\n",
        "indu=1\n",
        "\n",
        "smt=np.array([[obs,bmi,pos,cons,eff,dial,stat,bis,cervl,cervw,indu]])"
      ],
      "metadata": {
        "id": "lo5ToSvkWGtu"
      },
      "execution_count": null,
      "outputs": []
    },
    {
      "cell_type": "code",
      "source": [
        "scaledip= scal.transform(smt)\n",
        "dfip=pd.DataFrame(scaledip)\n",
        "print(dfip)"
      ],
      "metadata": {
        "colab": {
          "base_uri": "https://localhost:8080/"
        },
        "id": "3K4svSYVYNae",
        "outputId": "40ae71c4-7070-481e-ef57-90a139905f01"
      },
      "execution_count": null,
      "outputs": [
        {
          "output_type": "stream",
          "name": "stdout",
          "text": [
            "         0         1        2         3         4         5         6   \\\n",
            "0 -0.237356  0.018711 -1.18662 -1.161828  1.242464 -1.295044  0.441695   \n",
            "\n",
            "         7         8         9         10  \n",
            "0 -1.009287  1.396212 -0.632836  0.252646  \n"
          ]
        },
        {
          "output_type": "stream",
          "name": "stderr",
          "text": [
            "/usr/local/lib/python3.10/dist-packages/sklearn/base.py:439: UserWarning: X does not have valid feature names, but StandardScaler was fitted with feature names\n",
            "  warnings.warn(\n"
          ]
        }
      ]
    },
    {
      "cell_type": "code",
      "source": [
        "ip_pred=model.predict(dfip)\n",
        "output=\"Normal Delivery\"\n",
        "if ip_pred>0.5:\n",
        "  output=\"cesarean\"\n",
        "print(output)"
      ],
      "metadata": {
        "colab": {
          "base_uri": "https://localhost:8080/"
        },
        "id": "nucFwHu9bxzZ",
        "outputId": "b314329a-8249-4221-ae1f-eb1438e386cc"
      },
      "execution_count": null,
      "outputs": [
        {
          "output_type": "stream",
          "name": "stdout",
          "text": [
            "1/1 [==============================] - 0s 23ms/step\n",
            "cesarean\n"
          ]
        }
      ]
    }
  ]
}